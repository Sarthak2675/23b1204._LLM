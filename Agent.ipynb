{
 "cells": [
  {
   "cell_type": "code",
   "execution_count": 6,
   "id": "24017961-b6e7-48c8-b0e5-8fdf024a213d",
   "metadata": {},
   "outputs": [
    {
     "name": "stdout",
     "output_type": "stream",
     "text": [
      "Collecting google-search-results"
     ]
    },
    {
     "name": "stderr",
     "output_type": "stream",
     "text": [
      "\n",
      "[notice] A new release of pip is available: 24.1.2 -> 24.2\n",
      "[notice] To update, run: python.exe -m pip install --upgrade pip\n"
     ]
    },
    {
     "name": "stdout",
     "output_type": "stream",
     "text": [
      "\n",
      "  Downloading google_search_results-2.4.2.tar.gz (18 kB)\n",
      "  Preparing metadata (setup.py): started\n",
      "  Preparing metadata (setup.py): finished with status 'done'\n",
      "Requirement already satisfied: requests in d:\\python\\lib\\site-packages (from google-search-results) (2.31.0)\n",
      "Requirement already satisfied: charset-normalizer<4,>=2 in d:\\python\\lib\\site-packages (from requests->google-search-results) (3.3.2)\n",
      "Requirement already satisfied: idna<4,>=2.5 in d:\\python\\lib\\site-packages (from requests->google-search-results) (3.6)\n",
      "Requirement already satisfied: urllib3<3,>=1.21.1 in d:\\python\\lib\\site-packages (from requests->google-search-results) (2.2.1)\n",
      "Requirement already satisfied: certifi>=2017.4.17 in d:\\python\\lib\\site-packages (from requests->google-search-results) (2024.2.2)\n",
      "Building wheels for collected packages: google-search-results\n",
      "  Building wheel for google-search-results (setup.py): started\n",
      "  Building wheel for google-search-results (setup.py): finished with status 'done'\n",
      "  Created wheel for google-search-results: filename=google_search_results-2.4.2-py3-none-any.whl size=32083 sha256=931076f328800085408da6a695f465df255461d054f6a7d62655d241f39df5d5\n",
      "  Stored in directory: c:\\users\\sarthak\\appdata\\local\\pip\\cache\\wheels\\0c\\47\\f5\\89b7e770ab2996baf8c910e7353d6391e373075a0ac213519e\n",
      "Successfully built google-search-results\n",
      "Installing collected packages: google-search-results\n",
      "Successfully installed google-search-results-2.4.2\n"
     ]
    }
   ],
   "source": [
    "!pip install google-search-results"
   ]
  },
  {
   "cell_type": "code",
   "execution_count": 7,
   "id": "ed29d99c-173a-4b37-bc17-f9f9212c094f",
   "metadata": {},
   "outputs": [],
   "source": [
    "from langchain.agents import load_tools\n",
    "from langchain.agents import initialize_agent\n",
    "from langchain.llms import OpenAI"
   ]
  },
  {
   "cell_type": "code",
   "execution_count": 14,
   "id": "ff7a4aa5-4fc8-4c30-88f6-b4eaab966372",
   "metadata": {},
   "outputs": [],
   "source": [
    "from langchain.agents import load_tools\n",
    "\n",
    "import os\n",
    "os.environ['OPENAI_API_KEY'] = \"...\"\n",
    "os.environ['SERPAPI_API_KEY'] = \"...\""
   ]
  },
  {
   "cell_type": "code",
   "execution_count": 9,
   "id": "ecac5dbb-bc1c-405d-8de5-176e7c756156",
   "metadata": {},
   "outputs": [],
   "source": [
    "llm = OpenAI(temperature=0.5)"
   ]
  },
  {
   "cell_type": "code",
   "execution_count": 10,
   "id": "c339f72c-3c22-4e56-9466-befe90cceaeb",
   "metadata": {},
   "outputs": [],
   "source": [
    "tool_names = [\"serpapi\"]\n",
    "tools = load_tools(tool_names)"
   ]
  },
  {
   "cell_type": "code",
   "execution_count": 11,
   "id": "b7d0fcb0-68f8-4788-a639-82647260054f",
   "metadata": {},
   "outputs": [
    {
     "name": "stderr",
     "output_type": "stream",
     "text": [
      "D:\\Python\\Lib\\site-packages\\langchain_core\\_api\\deprecation.py:139: LangChainDeprecationWarning: The function `initialize_agent` was deprecated in LangChain 0.1.0 and will be removed in 0.3.0. Use Use new agent constructor methods like create_react_agent, create_json_agent, create_structured_chat_agent, etc. instead.\n",
      "  warn_deprecated(\n"
     ]
    }
   ],
   "source": [
    "agent = initialize_agent(tools, llm, agent=\"zero-shot-react-description\", verbose=True)"
   ]
  },
  {
   "cell_type": "code",
   "execution_count": 12,
   "id": "5ee30dc0-233c-497f-8cd7-8b60bc3c325a",
   "metadata": {},
   "outputs": [
    {
     "name": "stderr",
     "output_type": "stream",
     "text": [
      "D:\\Python\\Lib\\site-packages\\langchain_core\\_api\\deprecation.py:139: LangChainDeprecationWarning: The method `Chain.run` was deprecated in langchain 0.1.0 and will be removed in 0.3.0. Use invoke instead.\n",
      "  warn_deprecated(\n"
     ]
    },
    {
     "name": "stdout",
     "output_type": "stream",
     "text": [
      "\n",
      "\n",
      "\u001b[1m> Entering new AgentExecutor chain...\u001b[0m\n",
      "\u001b[32;1m\u001b[1;3m I should try searching for LangChain on a search engine.\n",
      "Action: Search\n",
      "Action Input: LangChain\u001b[0m\n",
      "Observation: \u001b[36;1m\u001b[1;3m[\"LangChain is a framework designed to simplify the creation of applications using large language models. As a language model integration framework, LangChain's use-cases largely overlap with those of language models in general, including document analysis and summarization, chatbots, and code analysis.\", 'LangChain entity_type: kp3_verticals.', 'LangChain kgmid: /g/11kjpl7_60.', 'LangChain initial_release_date: October 2022.', 'LangChain developer_s: Harrison Chase.', 'LangChain license: MIT License.', 'LangChain repository: github.com/langchain-ai/langchain.', 'LangChain stable_release: 0.1.16 / 11 April 2024; 3 months ago.', 'LangChain written_in: Python and JavaScript.', 'LangChain is a framework to build with LLMs by chaining interoperable components. LangGraph is the framework for building controllable agentic workflows.', 'LangChain is a framework for developing applications powered by large language models (LLMs). For these applications, LangChain simplifies the entire ...', 'LangChain is essentially a library of abstractions for Python and Javascript, representing common steps and concepts necessary to work with language models.', 'LangChain provides AI developers with tools to connect language models with external data sources. It is open-source and supported by an active community.', 'LangGraph Studio provides a specialized agent IDE for visualizing, interacting with, and debugging complex agentic applications. See how to use it on your ...', 'Really cool new prompting library! Accounts for input length and is very flexible Even cooler: integrates seamlessly with LangChain (the default example uses ...']\u001b[0m\n",
      "Thought:\u001b[32;1m\u001b[1;3m I should read through the observations to get a better understanding of what LangChain is.\n",
      "Action: Read\n",
      "Action Input: Observations\u001b[0m\n",
      "Observation: Read is not a valid tool, try one of [Search].\n",
      "Thought:\u001b[32;1m\u001b[1;3m I should use the search engine to find more information about LangChain.\n",
      "Action: Search\n",
      "Action Input: LangChain\u001b[0m\n",
      "Observation: \u001b[36;1m\u001b[1;3m[\"LangChain is a framework designed to simplify the creation of applications using large language models. As a language model integration framework, LangChain's use-cases largely overlap with those of language models in general, including document analysis and summarization, chatbots, and code analysis.\", 'LangChain entity_type: kp3_verticals.', 'LangChain kgmid: /g/11kjpl7_60.', 'LangChain initial_release_date: October 2022.', 'LangChain developer_s: Harrison Chase.', 'LangChain license: MIT License.', 'LangChain repository: github.com/langchain-ai/langchain.', 'LangChain stable_release: 0.1.16 / 11 April 2024; 3 months ago.', 'LangChain written_in: Python and JavaScript.', 'LangChain is a framework to build with LLMs by chaining interoperable components. LangGraph is the framework for building controllable agentic workflows.', 'LangChain is a framework for developing applications powered by large language models (LLMs). For these applications, LangChain simplifies the entire ...', 'LangChain is essentially a library of abstractions for Python and Javascript, representing common steps and concepts necessary to work with language models.', 'LangChain provides AI developers with tools to connect language models with external data sources. It is open-source and supported by an active community.', 'LangGraph Studio provides a specialized agent IDE for visualizing, interacting with, and debugging complex agentic applications. See how to use it on your ...', 'Really cool new prompting library! Accounts for input length and is very flexible Even cooler: integrates seamlessly with LangChain (the default example uses ...']\u001b[0m\n",
      "Thought:\u001b[32;1m\u001b[1;3m I now know that LangChain is a framework designed for working with large language models and simplifying the creation of applications using them.\n",
      "Final Answer: LangChain is a framework designed to simplify the creation of applications using large language models.\u001b[0m\n",
      "\n",
      "\u001b[1m> Finished chain.\u001b[0m\n"
     ]
    },
    {
     "data": {
      "text/plain": [
       "'LangChain is a framework designed to simplify the creation of applications using large language models.'"
      ]
     },
     "execution_count": 12,
     "metadata": {},
     "output_type": "execute_result"
    }
   ],
   "source": [
    "agent.run(\"What is LangChain?\")"
   ]
  },
  {
   "cell_type": "code",
   "execution_count": 13,
   "id": "103334c2-6c05-4855-83a5-b38aaa05722a",
   "metadata": {},
   "outputs": [
    {
     "name": "stdout",
     "output_type": "stream",
     "text": [
      "\n",
      "\n",
      "\u001b[1m> Entering new AgentExecutor chain...\u001b[0m\n",
      "\u001b[32;1m\u001b[1;3m It would be helpful to know more about Pipe before searching for the CEO.\n",
      "Action: Search\n",
      "Action Input: \"Pipe CEO\"\u001b[0m\n",
      "Observation: \u001b[36;1m\u001b[1;3mLuke Voiles\u001b[0m\n",
      "Thought:\u001b[32;1m\u001b[1;3m I should double check the source of this information to ensure accuracy.\n",
      "Action: Search\n",
      "Action Input: \"Pipe CEO Luke Voiles\"\u001b[0m\n",
      "Observation: \u001b[36;1m\u001b[1;3m['Luke Voiles, a passionate fintech leader, and business builder has been named the next CEO of Pipe. Before his appointment, he was the GM of ...', \"Experience: Pipe · Location: San Francisco · 500+ connections on LinkedIn. View Luke Voiles' profile on LinkedIn, a professional community of 1 billion ...\", 'Luke has been around fintech for many years and he became CEO of Pipe about a year ago now. He has a different perspective on small business ...', 'CEO at Pipe, father of 4, fintech geek. 5mo.', 'Luke Voiles. Chief Executive Officer. Luke has nearly two decades of leadership experience growing technology businesses within innovative ...', 'The new chief executive, Luke Voiles, is joining Pipe after working as the general manager of Square Banking at Block, formerly Square. He was ...', \"Pipe's CEO Luke Voiles joins the podcast to discuss the firm's move into embedded lending with its new Capital as a Service platform.\", 'New on the Leaders In Payments Podcast: Luke Voiles, CEO of Pipe, shares his fintech vision to revolutionize capital access for small businesses.', 'Pipe, a US-based capital platform, has bolstered its senior management team following the arrival of a new CEO, Luke Voiles, earlier this year.']\u001b[0m\n",
      "Thought:\u001b[32;1m\u001b[1;3m It seems that Luke Voiles is indeed the current CEO of Pipe.\n",
      "Final Answer: Luke Voiles \u001b[0m\n",
      "\n",
      "\u001b[1m> Finished chain.\u001b[0m\n"
     ]
    },
    {
     "data": {
      "text/plain": [
       "'Luke Voiles'"
      ]
     },
     "execution_count": 13,
     "metadata": {},
     "output_type": "execute_result"
    }
   ],
   "source": [
    "# Input should be a search query.\n",
    "agent.run(\"who is the ceo of pipe?\")"
   ]
  },
  {
   "cell_type": "code",
   "execution_count": null,
   "id": "9c3282fa-7b7c-4561-b1f1-ed931a606b17",
   "metadata": {},
   "outputs": [],
   "source": []
  }
 ],
 "metadata": {
  "kernelspec": {
   "display_name": "Python 3 (ipykernel)",
   "language": "python",
   "name": "python3"
  },
  "language_info": {
   "codemirror_mode": {
    "name": "ipython",
    "version": 3
   },
   "file_extension": ".py",
   "mimetype": "text/x-python",
   "name": "python",
   "nbconvert_exporter": "python",
   "pygments_lexer": "ipython3",
   "version": "3.12.2"
  }
 },
 "nbformat": 4,
 "nbformat_minor": 5
}
