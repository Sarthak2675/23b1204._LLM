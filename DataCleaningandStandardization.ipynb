{
 "cells": [
  {
   "cell_type": "code",
   "execution_count": 1,
   "id": "9379adc2-5d0b-4e84-81c7-b2467e5ebcf1",
   "metadata": {},
   "outputs": [],
   "source": [
    "from langchain.output_parsers import StructuredOutputParser, ResponseSchema\n",
    "from langchain.prompts import ChatPromptTemplate, HumanMessagePromptTemplate\n",
    "from langchain.llms import OpenAI\n",
    "from langchain.chat_models import ChatOpenAI\n",
    "import pandas as pd\n",
    "import json"
   ]
  },
  {
   "cell_type": "code",
   "execution_count": 26,
   "id": "ca476f9f-6f93-46e2-819c-76ff26bc415c",
   "metadata": {},
   "outputs": [],
   "source": [
    "openai_api_key = '...'"
   ]
  },
  {
   "cell_type": "code",
   "execution_count": 3,
   "id": "86336c19-a8cb-4419-85ea-8af3c8e06d76",
   "metadata": {},
   "outputs": [
    {
     "name": "stderr",
     "output_type": "stream",
     "text": [
      "D:\\Python\\Lib\\site-packages\\langchain_core\\_api\\deprecation.py:139: LangChainDeprecationWarning: The class `ChatOpenAI` was deprecated in LangChain 0.0.10 and will be removed in 0.3.0. An updated version of the class exists in the langchain-openai package and should be used instead. To use it run `pip install -U langchain-openai` and import as `from langchain_openai import ChatOpenAI`.\n",
      "  warn_deprecated(\n"
     ]
    }
   ],
   "source": [
    "# Temp = 0 so that we get clean information without a lot of creativity\n",
    "chat_model = ChatOpenAI(temperature=0, openai_api_key=openai_api_key, max_tokens=1000)"
   ]
  },
  {
   "cell_type": "code",
   "execution_count": 4,
   "id": "31246440-8f14-4052-91a9-1467252a0b94",
   "metadata": {},
   "outputs": [],
   "source": [
    "# How you would like your response structured. This is basically a fancy prompt template\n",
    "response_schemas = [\n",
    "    ResponseSchema(name=\"input_industry\", description=\"This is the input_industry from the user\"),\n",
    "    ResponseSchema(name=\"standardized_industry\", description=\"This is the industry you feel is most closely matched to the users input\"),\n",
    "    ResponseSchema(name=\"match_score\",  description=\"A score 0-100 of how close you think the match is between user input and your match\")\n",
    "]\n",
    "\n",
    "# How you would like to parse your output\n",
    "output_parser = StructuredOutputParser.from_response_schemas(response_schemas)"
   ]
  },
  {
   "cell_type": "code",
   "execution_count": 5,
   "id": "a23a3557-0a49-4958-a94d-867d1c92a242",
   "metadata": {},
   "outputs": [
    {
     "name": "stdout",
     "output_type": "stream",
     "text": [
      "The output should be a markdown code snippet formatted in the following schema, including the leading and trailing \"```json\" and \"```\":\n",
      "\n",
      "```json\n",
      "{\n",
      "\t\"input_industry\": string  // This is the input_industry from the user\n",
      "\t\"standardized_industry\": string  // This is the industry you feel is most closely matched to the users input\n",
      "\t\"match_score\": string  // A score 0-100 of how close you think the match is between user input and your match\n",
      "}\n",
      "```\n"
     ]
    }
   ],
   "source": [
    "# See the prompt template you created for formatting\n",
    "format_instructions = output_parser.get_format_instructions()\n",
    "print (output_parser.get_format_instructions())"
   ]
  },
  {
   "cell_type": "code",
   "execution_count": 6,
   "id": "d5888232-1112-4637-82e6-8873b5added5",
   "metadata": {},
   "outputs": [],
   "source": [
    "template = \"\"\"\n",
    "You will be given a series of industry names from a user.\n",
    "Find the best corresponding match on the list of standardized names.\n",
    "The closest match will be the one with the closest semantic meaning. Not just string similarity.\n",
    "\n",
    "{format_instructions}\n",
    "\n",
    "Wrap your final output with closed and open brackets (a list of json objects)\n",
    "\n",
    "input_industry INPUT:\n",
    "{user_industries}\n",
    "\n",
    "STANDARDIZED INDUSTRIES:\n",
    "{standardized_industries}\n",
    "\n",
    "YOUR RESPONSE:\n",
    "\"\"\"\n",
    "\n",
    "prompt = ChatPromptTemplate(\n",
    "    messages=[\n",
    "        HumanMessagePromptTemplate.from_template(template)  \n",
    "    ],\n",
    "    input_variables=[\"user_industries\", \"standardized_industries\"],\n",
    "    partial_variables={\"format_instructions\": format_instructions}\n",
    ")"
   ]
  },
  {
   "cell_type": "code",
   "execution_count": 15,
   "id": "b3eda823-d5ab-4855-b58a-2e80ed566a0a",
   "metadata": {},
   "outputs": [
    {
     "data": {
      "text/plain": [
       "'Corporate Services, Recreation & Travel, Legal, Wellness & Fitness, Entertainment, Consumer Goods, Design, Arts, Manufacturing, Finance, Health Care, Construction, Nonprofit, Real Estate, Software & IT Services, Hardware & Networking, Agriculture, Education, Public Administration, Transportation & Logistics, Public Safety, Media & Communications, Energy & Mining, Retail'"
      ]
     },
     "execution_count": 15,
     "metadata": {},
     "output_type": "execute_result"
    }
   ],
   "source": [
    "# Get your standardized names. You can swap this out with whatever list you want!\n",
    "df = pd.read_csv('LinkedInIndustries.csv')\n",
    "standardized_industries = \", \".join(df['Industry'].values)\n",
    "standardized_industries"
   ]
  },
  {
   "cell_type": "code",
   "execution_count": 16,
   "id": "55894ca8-cd1c-4334-a3df-45647fb9ed5a",
   "metadata": {},
   "outputs": [
    {
     "name": "stdout",
     "output_type": "stream",
     "text": [
      "There are 1 message(s)\n",
      "Type: <class 'langchain_core.messages.human.HumanMessage'>\n",
      "---------------------------\n",
      "\n",
      "You will be given a series of industry names from a user.\n",
      "Find the best corresponding match on the list of standardized names.\n",
      "The closest match will be the one with the closest semantic meaning. Not just string similarity.\n",
      "\n",
      "The output should be a markdown code snippet formatted in the following schema, including the leading and trailing \"```json\" and \"```\":\n",
      "\n",
      "```json\n",
      "{\n",
      "\t\"input_industry\": string  // This is the input_industry from the user\n",
      "\t\"standardized_industry\": string  // This is the industry you feel is most closely matched to the users input\n",
      "\t\"match_score\": string  // A score 0-100 of how close you think the match is between user input and your match\n",
      "}\n",
      "```\n",
      "\n",
      "Wrap your final output with closed and open brackets (a list of json objects)\n",
      "\n",
      "input_industry INPUT:\n",
      "air LineZ, airline, aviation, planes that fly, farming, bread, wifi networks, twitter media agency\n",
      "\n",
      "STANDARDIZED INDUSTRIES:\n",
      "Corporate Services, Recreation & Travel, Legal, Wellness & Fitness, Entertainment, Consumer Goods, Design, Arts, Manufacturing, Finance, Health Care, Construction, Nonprofit, Real Estate, Software & IT Services, Hardware & Networking, Agriculture, Education, Public Administration, Transportation & Logistics, Public Safety, Media & Communications, Energy & Mining, Retail\n",
      "\n",
      "YOUR RESPONSE:\n",
      "\n"
     ]
    }
   ],
   "source": [
    "# Your user input\n",
    "\n",
    "user_input = \"air LineZ, airline, aviation, planes that fly, farming, bread, wifi networks, twitter media agency\"\n",
    "\n",
    "_input = prompt.format_prompt(user_industries=user_input, standardized_industries=standardized_industries)\n",
    "\n",
    "\n",
    "print (f\"There are {len(_input.messages)} message(s)\")\n",
    "print (f\"Type: {type(_input.messages[0])}\")\n",
    "print (\"---------------------------\")\n",
    "print (_input.messages[0].content)"
   ]
  },
  {
   "cell_type": "code",
   "execution_count": 17,
   "id": "c6cb20db-8b0e-4e17-b27e-7d4313a47972",
   "metadata": {},
   "outputs": [
    {
     "name": "stderr",
     "output_type": "stream",
     "text": [
      "D:\\Python\\Lib\\site-packages\\langchain_core\\_api\\deprecation.py:139: LangChainDeprecationWarning: The method `BaseChatModel.__call__` was deprecated in langchain-core 0.1.7 and will be removed in 0.3.0. Use invoke instead.\n",
      "  warn_deprecated(\n"
     ]
    }
   ],
   "source": [
    "output = chat_model(_input.to_messages())"
   ]
  },
  {
   "cell_type": "code",
   "execution_count": 18,
   "id": "d9da4c9a-38ec-452f-9539-fd4cc22aec82",
   "metadata": {},
   "outputs": [
    {
     "name": "stdout",
     "output_type": "stream",
     "text": [
      "<class 'langchain_core.messages.ai.AIMessage'>\n",
      "```json\n",
      "[\n",
      "\t{\n",
      "\t\t\"input_industry\": \"air LineZ\",\n",
      "\t\t\"standardized_industry\": \"Transportation & Logistics\",\n",
      "\t\t\"match_score\": \"80\"\n",
      "\t},\n",
      "\t{\n",
      "\t\t\"input_industry\": \"airline\",\n",
      "\t\t\"standardized_industry\": \"Transportation & Logistics\",\n",
      "\t\t\"match_score\": \"90\"\n",
      "\t},\n",
      "\t{\n",
      "\t\t\"input_industry\": \"aviation\",\n",
      "\t\t\"standardized_industry\": \"Transportation & Logistics\",\n",
      "\t\t\"match_score\": \"95\"\n",
      "\t},\n",
      "\t{\n",
      "\t\t\"input_industry\": \"planes that fly\",\n",
      "\t\t\"standardized_industry\": \"Transportation & Logistics\",\n",
      "\t\t\"match_score\": \"85\"\n",
      "\t},\n",
      "\t{\n",
      "\t\t\"input_industry\": \"farming\",\n",
      "\t\t\"standardized_industry\": \"Agriculture\",\n",
      "\t\t\"match_score\": \"90\"\n",
      "\t},\n",
      "\t{\n",
      "\t\t\"input_industry\": \"bread\",\n",
      "\t\t\"standardized_industry\": \"Consumer Goods\",\n",
      "\t\t\"match_score\": \"80\"\n",
      "\t},\n",
      "\t{\n",
      "\t\t\"input_industry\": \"wifi networks\",\n",
      "\t\t\"standardized_industry\": \"Hardware & Networking\",\n",
      "\t\t\"match_score\": \"85\"\n",
      "\t},\n",
      "\t{\n",
      "\t\t\"input_industry\": \"twitter media agency\",\n",
      "\t\t\"standardized_industry\": \"Media & Communications\",\n",
      "\t\t\"match_score\": \"95\"\n",
      "\t}\n",
      "]\n",
      "```\n"
     ]
    }
   ],
   "source": [
    "print (type(output))\n",
    "print (output.content)"
   ]
  },
  {
   "cell_type": "code",
   "execution_count": 19,
   "id": "43f6237d-9a99-441c-8f9a-fbe97d11919a",
   "metadata": {},
   "outputs": [],
   "source": [
    "if \"```json\" in output.content:\n",
    "    json_string = output.content.split(\"```json\")[1].strip()\n",
    "else:\n",
    "    json_string = output.content"
   ]
  },
  {
   "cell_type": "code",
   "execution_count": 20,
   "id": "b33a78f1-9c20-426b-8d52-7d9e02d24202",
   "metadata": {},
   "outputs": [
    {
     "name": "stdout",
     "output_type": "stream",
     "text": [
      "```json\n",
      "[\n",
      "\t{\n",
      "\t\t\"input_industry\": \"air LineZ\",\n",
      "\t\t\"standardized_industry\": \"Transportation & Logistics\",\n",
      "\t\t\"match_score\": \"80\"\n",
      "\t},\n",
      "\t{\n",
      "\t\t\"input_industry\": \"airline\",\n",
      "\t\t\"standardized_industry\": \"Transportation & Logistics\",\n",
      "\t\t\"match_score\": \"90\"\n",
      "\t},\n",
      "\t{\n",
      "\t\t\"input_industry\": \"aviation\",\n",
      "\t\t\"standardized_industry\": \"Transportation & Logistics\",\n",
      "\t\t\"match_score\": \"95\"\n",
      "\t},\n",
      "\t{\n",
      "\t\t\"input_industry\": \"planes that fly\",\n",
      "\t\t\"standardized_industry\": \"Transportation & Logistics\",\n",
      "\t\t\"match_score\": \"85\"\n",
      "\t},\n",
      "\t{\n",
      "\t\t\"input_industry\": \"farming\",\n",
      "\t\t\"standardized_industry\": \"Agriculture\",\n",
      "\t\t\"match_score\": \"90\"\n",
      "\t},\n",
      "\t{\n",
      "\t\t\"input_industry\": \"bread\",\n",
      "\t\t\"standardized_industry\": \"Consumer Goods\",\n",
      "\t\t\"match_score\": \"80\"\n",
      "\t},\n",
      "\t{\n",
      "\t\t\"input_industry\": \"wifi networks\",\n",
      "\t\t\"standardized_industry\": \"Hardware & Networking\",\n",
      "\t\t\"match_score\": \"85\"\n",
      "\t},\n",
      "\t{\n",
      "\t\t\"input_industry\": \"twitter media agency\",\n",
      "\t\t\"standardized_industry\": \"Media & Communications\",\n",
      "\t\t\"match_score\": \"95\"\n",
      "\t}\n",
      "]\n",
      "```\n"
     ]
    }
   ],
   "source": [
    "print(output.content)"
   ]
  },
  {
   "cell_type": "code",
   "execution_count": null,
   "id": "2d8304f3-b913-4cb0-8be1-e6594a671d2f",
   "metadata": {},
   "outputs": [],
   "source": []
  }
 ],
 "metadata": {
  "kernelspec": {
   "display_name": "Python 3 (ipykernel)",
   "language": "python",
   "name": "python3"
  },
  "language_info": {
   "codemirror_mode": {
    "name": "ipython",
    "version": 3
   },
   "file_extension": ".py",
   "mimetype": "text/x-python",
   "name": "python",
   "nbconvert_exporter": "python",
   "pygments_lexer": "ipython3",
   "version": "3.12.2"
  }
 },
 "nbformat": 4,
 "nbformat_minor": 5
}
