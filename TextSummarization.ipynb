{
 "cells": [
  {
   "cell_type": "code",
   "execution_count": 1,
   "id": "4d1a51be-fcba-4989-b57e-531da0e87a88",
   "metadata": {},
   "outputs": [
    {
     "name": "stdout",
     "output_type": "stream",
     "text": [
      "Requirement already satisfied: langchain in d:\\python\\lib\\site-packages (0.2.5)"
     ]
    },
    {
     "name": "stderr",
     "output_type": "stream",
     "text": [
      "\n",
      "[notice] A new release of pip is available: 24.1.2 -> 24.2\n",
      "[notice] To update, run: python.exe -m pip install --upgrade pip\n"
     ]
    },
    {
     "name": "stdout",
     "output_type": "stream",
     "text": [
      "\n",
      "Requirement already satisfied: openai in d:\\python\\lib\\site-packages (1.35.3)\n",
      "Requirement already satisfied: streamlit in d:\\python\\lib\\site-packages (1.37.0)\n",
      "Collecting tiktoken\n",
      "  Downloading tiktoken-0.7.0-cp312-cp312-win_amd64.whl.metadata (6.8 kB)\n",
      "Collecting unstructured\n",
      "  Downloading unstructured-0.15.0-py3-none-any.whl.metadata (29 kB)\n",
      "Collecting pdf2image\n",
      "  Downloading pdf2image-1.17.0-py3-none-any.whl.metadata (6.2 kB)\n",
      "Collecting pdfminer\n",
      "  Downloading pdfminer-20191125.tar.gz (4.2 MB)\n",
      "     ---------------------------------------- 0.0/4.2 MB ? eta -:--:--\n",
      "     ---- ----------------------------------- 0.5/4.2 MB 14.9 MB/s eta 0:00:01\n",
      "     ----------- ---------------------------- 1.2/4.2 MB 15.8 MB/s eta 0:00:01\n",
      "     ------------------- -------------------- 2.1/4.2 MB 16.4 MB/s eta 0:00:01\n",
      "     -------------------------- ------------- 2.8/4.2 MB 16.1 MB/s eta 0:00:01\n",
      "     ------------------------------ --------- 3.2/4.2 MB 15.8 MB/s eta 0:00:01\n",
      "     ---------------------------------- ----- 3.6/4.2 MB 15.2 MB/s eta 0:00:01\n",
      "     ----------------------------------- ---- 3.7/4.2 MB 14.1 MB/s eta 0:00:01\n",
      "     ---------------------------------------  4.1/4.2 MB 13.3 MB/s eta 0:00:01\n",
      "     ---------------------------------------- 4.2/4.2 MB 12.1 MB/s eta 0:00:00\n",
      "  Preparing metadata (setup.py): started\n",
      "  Preparing metadata (setup.py): finished with status 'done'\n",
      "Collecting PyPDF2\n",
      "  Downloading pypdf2-3.0.1-py3-none-any.whl.metadata (6.8 kB)\n",
      "Requirement already satisfied: PyYAML>=5.3 in d:\\python\\lib\\site-packages (from langchain) (6.0.1)\n",
      "Requirement already satisfied: SQLAlchemy<3,>=1.4 in d:\\python\\lib\\site-packages (from langchain) (2.0.31)\n",
      "Requirement already satisfied: aiohttp<4.0.0,>=3.8.3 in d:\\python\\lib\\site-packages (from langchain) (3.9.5)\n",
      "Requirement already satisfied: langchain-core<0.3.0,>=0.2.7 in d:\\python\\lib\\site-packages (from langchain) (0.2.9)\n",
      "Requirement already satisfied: langchain-text-splitters<0.3.0,>=0.2.0 in d:\\python\\lib\\site-packages (from langchain) (0.2.1)\n",
      "Requirement already satisfied: langsmith<0.2.0,>=0.1.17 in d:\\python\\lib\\site-packages (from langchain) (0.1.82)\n",
      "Requirement already satisfied: numpy<2.0.0,>=1.26.0 in d:\\python\\lib\\site-packages (from langchain) (1.26.4)\n",
      "Requirement already satisfied: pydantic<3,>=1 in d:\\python\\lib\\site-packages (from langchain) (2.7.4)\n",
      "Requirement already satisfied: requests<3,>=2 in d:\\python\\lib\\site-packages (from langchain) (2.31.0)\n",
      "Requirement already satisfied: tenacity<9.0.0,>=8.1.0 in d:\\python\\lib\\site-packages (from langchain) (8.4.2)\n",
      "Requirement already satisfied: anyio<5,>=3.5.0 in d:\\python\\lib\\site-packages (from openai) (4.3.0)\n",
      "Requirement already satisfied: distro<2,>=1.7.0 in d:\\python\\lib\\site-packages (from openai) (1.9.0)\n",
      "Requirement already satisfied: httpx<1,>=0.23.0 in d:\\python\\lib\\site-packages (from openai) (0.27.0)\n",
      "Requirement already satisfied: sniffio in d:\\python\\lib\\site-packages (from openai) (1.3.1)\n",
      "Requirement already satisfied: tqdm>4 in d:\\python\\lib\\site-packages (from openai) (4.66.4)\n",
      "Requirement already satisfied: typing-extensions<5,>=4.7 in d:\\python\\lib\\site-packages (from openai) (4.12.0)\n",
      "Requirement already satisfied: altair<6,>=4.0 in d:\\python\\lib\\site-packages (from streamlit) (5.3.0)\n",
      "Requirement already satisfied: blinker<2,>=1.0.0 in d:\\python\\lib\\site-packages (from streamlit) (1.8.2)\n",
      "Requirement already satisfied: cachetools<6,>=4.0 in d:\\python\\lib\\site-packages (from streamlit) (5.4.0)\n",
      "Requirement already satisfied: click<9,>=7.0 in d:\\python\\lib\\site-packages (from streamlit) (8.1.7)\n",
      "Requirement already satisfied: packaging<25,>=20 in d:\\python\\lib\\site-packages (from streamlit) (23.2)\n",
      "Requirement already satisfied: pandas<3,>=1.3.0 in d:\\python\\lib\\site-packages (from streamlit) (2.2.1)\n",
      "Requirement already satisfied: pillow<11,>=7.1.0 in d:\\python\\lib\\site-packages (from streamlit) (10.2.0)\n",
      "Requirement already satisfied: protobuf<6,>=3.20 in d:\\python\\lib\\site-packages (from streamlit) (5.27.3)\n",
      "Requirement already satisfied: pyarrow>=7.0 in d:\\python\\lib\\site-packages (from streamlit) (17.0.0)\n",
      "Requirement already satisfied: rich<14,>=10.14.0 in d:\\python\\lib\\site-packages (from streamlit) (13.7.1)\n",
      "Requirement already satisfied: toml<2,>=0.10.1 in d:\\python\\lib\\site-packages (from streamlit) (0.10.2)\n",
      "Requirement already satisfied: gitpython!=3.1.19,<4,>=3.0.7 in d:\\python\\lib\\site-packages (from streamlit) (3.1.43)\n",
      "Requirement already satisfied: pydeck<1,>=0.8.0b4 in d:\\python\\lib\\site-packages (from streamlit) (0.9.1)\n",
      "Requirement already satisfied: tornado<7,>=6.0.3 in d:\\python\\lib\\site-packages (from streamlit) (6.4)\n",
      "Requirement already satisfied: watchdog<5,>=2.1.5 in d:\\python\\lib\\site-packages (from streamlit) (4.0.1)\n",
      "Requirement already satisfied: regex>=2022.1.18 in d:\\python\\lib\\site-packages (from tiktoken) (2024.5.15)\n",
      "Collecting chardet (from unstructured)\n",
      "  Downloading chardet-5.2.0-py3-none-any.whl.metadata (3.4 kB)\n",
      "Collecting filetype (from unstructured)\n",
      "  Downloading filetype-1.2.0-py2.py3-none-any.whl.metadata (6.5 kB)\n",
      "Collecting python-magic (from unstructured)\n",
      "  Downloading python_magic-0.4.27-py2.py3-none-any.whl.metadata (5.8 kB)\n",
      "Requirement already satisfied: lxml in d:\\python\\lib\\site-packages (from unstructured) (5.2.2)\n",
      "Requirement already satisfied: nltk in d:\\python\\lib\\site-packages (from unstructured) (3.8.1)\n",
      "Collecting tabulate (from unstructured)\n",
      "  Downloading tabulate-0.9.0-py3-none-any.whl.metadata (34 kB)\n",
      "Requirement already satisfied: beautifulsoup4 in d:\\python\\lib\\site-packages (from unstructured) (4.12.3)\n",
      "Collecting emoji (from unstructured)\n",
      "  Downloading emoji-2.12.1-py3-none-any.whl.metadata (5.4 kB)\n",
      "Requirement already satisfied: dataclasses-json in d:\\python\\lib\\site-packages (from unstructured) (0.6.7)\n",
      "Collecting python-iso639 (from unstructured)\n",
      "  Downloading python_iso639-2024.4.27-py3-none-any.whl.metadata (13 kB)\n",
      "Collecting langdetect (from unstructured)\n",
      "  Downloading langdetect-1.0.9.tar.gz (981 kB)\n",
      "     ---------------------------------------- 0.0/981.5 kB ? eta -:--:--\n",
      "     ---------------- -------------------- 430.1/981.5 kB 28.0 MB/s eta 0:00:01\n",
      "     ------------------------------------- 981.5/981.5 kB 15.7 MB/s eta 0:00:00\n",
      "  Preparing metadata (setup.py): started\n",
      "  Preparing metadata (setup.py): finished with status 'done'\n",
      "Collecting rapidfuzz (from unstructured)\n",
      "  Downloading rapidfuzz-3.9.5-cp312-cp312-win_amd64.whl.metadata (12 kB)\n",
      "Collecting backoff (from unstructured)\n",
      "  Downloading backoff-2.2.1-py3-none-any.whl.metadata (14 kB)\n",
      "Collecting unstructured-client (from unstructured)\n",
      "  Downloading unstructured_client-0.25.1-py3-none-any.whl.metadata (13 kB)\n",
      "Requirement already satisfied: wrapt in d:\\python\\lib\\site-packages (from unstructured) (1.16.0)\n",
      "Requirement already satisfied: psutil in d:\\python\\lib\\site-packages (from unstructured) (5.9.8)\n",
      "Collecting pycryptodome (from pdfminer)\n",
      "  Downloading pycryptodome-3.20.0-cp35-abi3-win_amd64.whl.metadata (3.4 kB)\n",
      "Requirement already satisfied: aiosignal>=1.1.2 in d:\\python\\lib\\site-packages (from aiohttp<4.0.0,>=3.8.3->langchain) (1.3.1)\n",
      "Requirement already satisfied: attrs>=17.3.0 in d:\\python\\lib\\site-packages (from aiohttp<4.0.0,>=3.8.3->langchain) (23.2.0)\n",
      "Requirement already satisfied: frozenlist>=1.1.1 in d:\\python\\lib\\site-packages (from aiohttp<4.0.0,>=3.8.3->langchain) (1.4.1)\n",
      "Requirement already satisfied: multidict<7.0,>=4.5 in d:\\python\\lib\\site-packages (from aiohttp<4.0.0,>=3.8.3->langchain) (6.0.5)\n",
      "Requirement already satisfied: yarl<2.0,>=1.0 in d:\\python\\lib\\site-packages (from aiohttp<4.0.0,>=3.8.3->langchain) (1.9.4)\n",
      "Requirement already satisfied: jinja2 in d:\\python\\lib\\site-packages (from altair<6,>=4.0->streamlit) (3.1.3)\n",
      "Requirement already satisfied: jsonschema>=3.0 in d:\\python\\lib\\site-packages (from altair<6,>=4.0->streamlit) (4.21.1)\n",
      "Requirement already satisfied: toolz in d:\\python\\lib\\site-packages (from altair<6,>=4.0->streamlit) (0.12.1)\n",
      "Requirement already satisfied: idna>=2.8 in d:\\python\\lib\\site-packages (from anyio<5,>=3.5.0->openai) (3.6)\n",
      "Requirement already satisfied: colorama in d:\\python\\lib\\site-packages (from click<9,>=7.0->streamlit) (0.4.6)\n",
      "Requirement already satisfied: gitdb<5,>=4.0.1 in d:\\python\\lib\\site-packages (from gitpython!=3.1.19,<4,>=3.0.7->streamlit) (4.0.11)\n",
      "Requirement already satisfied: certifi in d:\\python\\lib\\site-packages (from httpx<1,>=0.23.0->openai) (2024.2.2)\n",
      "Requirement already satisfied: httpcore==1.* in d:\\python\\lib\\site-packages (from httpx<1,>=0.23.0->openai) (1.0.4)\n",
      "Requirement already satisfied: h11<0.15,>=0.13 in d:\\python\\lib\\site-packages (from httpcore==1.*->httpx<1,>=0.23.0->openai) (0.14.0)\n",
      "Requirement already satisfied: jsonpatch<2.0,>=1.33 in d:\\python\\lib\\site-packages (from langchain-core<0.3.0,>=0.2.7->langchain) (1.33)\n",
      "Requirement already satisfied: orjson<4.0.0,>=3.9.14 in d:\\python\\lib\\site-packages (from langsmith<0.2.0,>=0.1.17->langchain) (3.10.5)\n",
      "Requirement already satisfied: python-dateutil>=2.8.2 in d:\\python\\lib\\site-packages (from pandas<3,>=1.3.0->streamlit) (2.8.2)\n",
      "Requirement already satisfied: pytz>=2020.1 in d:\\python\\lib\\site-packages (from pandas<3,>=1.3.0->streamlit) (2024.1)\n",
      "Requirement already satisfied: tzdata>=2022.7 in d:\\python\\lib\\site-packages (from pandas<3,>=1.3.0->streamlit) (2024.1)\n",
      "Requirement already satisfied: annotated-types>=0.4.0 in d:\\python\\lib\\site-packages (from pydantic<3,>=1->langchain) (0.7.0)\n",
      "Requirement already satisfied: pydantic-core==2.18.4 in d:\\python\\lib\\site-packages (from pydantic<3,>=1->langchain) (2.18.4)\n",
      "Requirement already satisfied: charset-normalizer<4,>=2 in d:\\python\\lib\\site-packages (from requests<3,>=2->langchain) (3.3.2)\n",
      "Requirement already satisfied: urllib3<3,>=1.21.1 in d:\\python\\lib\\site-packages (from requests<3,>=2->langchain) (2.2.1)\n",
      "Requirement already satisfied: markdown-it-py>=2.2.0 in d:\\python\\lib\\site-packages (from rich<14,>=10.14.0->streamlit) (3.0.0)\n",
      "Requirement already satisfied: pygments<3.0.0,>=2.13.0 in d:\\python\\lib\\site-packages (from rich<14,>=10.14.0->streamlit) (2.17.2)\n",
      "Requirement already satisfied: greenlet!=0.4.17 in d:\\python\\lib\\site-packages (from SQLAlchemy<3,>=1.4->langchain) (3.0.3)\n",
      "Requirement already satisfied: soupsieve>1.2 in d:\\python\\lib\\site-packages (from beautifulsoup4->unstructured) (2.5)\n",
      "Requirement already satisfied: marshmallow<4.0.0,>=3.18.0 in d:\\python\\lib\\site-packages (from dataclasses-json->unstructured) (3.21.3)\n",
      "Requirement already satisfied: typing-inspect<1,>=0.4.0 in d:\\python\\lib\\site-packages (from dataclasses-json->unstructured) (0.9.0)\n",
      "Requirement already satisfied: six in d:\\python\\lib\\site-packages (from langdetect->unstructured) (1.16.0)\n",
      "Requirement already satisfied: joblib in d:\\python\\lib\\site-packages (from nltk->unstructured) (1.4.2)\n",
      "Collecting deepdiff>=6.0 (from unstructured-client->unstructured)\n",
      "  Downloading deepdiff-7.0.1-py3-none-any.whl.metadata (6.8 kB)\n",
      "Collecting jsonpath-python>=1.0.6 (from unstructured-client->unstructured)\n",
      "  Downloading jsonpath_python-1.0.6-py3-none-any.whl.metadata (12 kB)\n",
      "Requirement already satisfied: mypy-extensions>=1.0.0 in d:\\python\\lib\\site-packages (from unstructured-client->unstructured) (1.0.0)\n",
      "Requirement already satisfied: nest-asyncio>=1.6.0 in d:\\python\\lib\\site-packages (from unstructured-client->unstructured) (1.6.0)\n",
      "Collecting pypdf>=4.0 (from unstructured-client->unstructured)\n",
      "  Downloading pypdf-4.3.1-py3-none-any.whl.metadata (7.4 kB)\n",
      "Collecting requests-toolbelt>=1.0.0 (from unstructured-client->unstructured)\n",
      "  Downloading requests_toolbelt-1.0.0-py2.py3-none-any.whl.metadata (14 kB)\n",
      "Collecting ordered-set<4.2.0,>=4.1.0 (from deepdiff>=6.0->unstructured-client->unstructured)\n",
      "  Downloading ordered_set-4.1.0-py3-none-any.whl.metadata (5.3 kB)\n",
      "Requirement already satisfied: smmap<6,>=3.0.1 in d:\\python\\lib\\site-packages (from gitdb<5,>=4.0.1->gitpython!=3.1.19,<4,>=3.0.7->streamlit) (5.0.1)\n",
      "Requirement already satisfied: MarkupSafe>=2.0 in d:\\python\\lib\\site-packages (from jinja2->altair<6,>=4.0->streamlit) (2.1.5)\n",
      "Requirement already satisfied: jsonpointer>=1.9 in d:\\python\\lib\\site-packages (from jsonpatch<2.0,>=1.33->langchain-core<0.3.0,>=0.2.7->langchain) (2.4)\n",
      "Requirement already satisfied: jsonschema-specifications>=2023.03.6 in d:\\python\\lib\\site-packages (from jsonschema>=3.0->altair<6,>=4.0->streamlit) (2023.12.1)\n",
      "Requirement already satisfied: referencing>=0.28.4 in d:\\python\\lib\\site-packages (from jsonschema>=3.0->altair<6,>=4.0->streamlit) (0.33.0)\n",
      "Requirement already satisfied: rpds-py>=0.7.1 in d:\\python\\lib\\site-packages (from jsonschema>=3.0->altair<6,>=4.0->streamlit) (0.18.0)\n",
      "Requirement already satisfied: mdurl~=0.1 in d:\\python\\lib\\site-packages (from markdown-it-py>=2.2.0->rich<14,>=10.14.0->streamlit) (0.1.2)\n",
      "Downloading tiktoken-0.7.0-cp312-cp312-win_amd64.whl (799 kB)\n",
      "   ---------------------------------------- 0.0/799.3 kB ? eta -:--:--\n",
      "   --------------------------------------  798.7/799.3 kB 25.4 MB/s eta 0:00:01\n",
      "   --------------------------------------- 799.3/799.3 kB 16.8 MB/s eta 0:00:00\n",
      "Downloading unstructured-0.15.0-py3-none-any.whl (2.1 MB)\n",
      "   ---------------------------------------- 0.0/2.1 MB ? eta -:--:--\n",
      "   ----------- ---------------------------- 0.6/2.1 MB 18.8 MB/s eta 0:00:01\n",
      "   --------------------------- ------------ 1.4/2.1 MB 18.1 MB/s eta 0:00:01\n",
      "   ---------------------------------------- 2.1/2.1 MB 16.7 MB/s eta 0:00:00\n",
      "Downloading pdf2image-1.17.0-py3-none-any.whl (11 kB)\n",
      "Downloading pypdf2-3.0.1-py3-none-any.whl (232 kB)\n",
      "   ---------------------------------------- 0.0/232.6 kB ? eta -:--:--\n",
      "   ---------------------------------------- 232.6/232.6 kB ? eta 0:00:00\n",
      "Downloading backoff-2.2.1-py3-none-any.whl (15 kB)\n",
      "Downloading chardet-5.2.0-py3-none-any.whl (199 kB)\n",
      "   ---------------------------------------- 0.0/199.4 kB ? eta -:--:--\n",
      "   --------------------------------------- 199.4/199.4 kB 11.8 MB/s eta 0:00:00\n",
      "Downloading emoji-2.12.1-py3-none-any.whl (431 kB)\n",
      "   ---------------------------------------- 0.0/431.4 kB ? eta -:--:--\n",
      "   --------------------------------------- 431.4/431.4 kB 13.2 MB/s eta 0:00:00\n",
      "Downloading filetype-1.2.0-py2.py3-none-any.whl (19 kB)\n",
      "Downloading pycryptodome-3.20.0-cp35-abi3-win_amd64.whl (1.8 MB)\n",
      "   ---------------------------------------- 0.0/1.8 MB ? eta -:--:--\n",
      "   ----------- ---------------------------- 0.5/1.8 MB 30.1 MB/s eta 0:00:01\n",
      "   -------------------- ------------------- 0.9/1.8 MB 19.0 MB/s eta 0:00:01\n",
      "   -------------------- ------------------- 0.9/1.8 MB 19.0 MB/s eta 0:00:01\n",
      "   ------------------------------ --------- 1.4/1.8 MB 12.3 MB/s eta 0:00:01\n",
      "   ---------------------------------------- 1.8/1.8 MB 10.2 MB/s eta 0:00:00\n",
      "Downloading python_iso639-2024.4.27-py3-none-any.whl (274 kB)\n",
      "   ---------------------------------------- 0.0/274.7 kB ? eta -:--:--\n",
      "   ---------------------------------------- 274.7/274.7 kB 8.3 MB/s eta 0:00:00\n",
      "Downloading python_magic-0.4.27-py2.py3-none-any.whl (13 kB)\n",
      "Downloading rapidfuzz-3.9.5-cp312-cp312-win_amd64.whl (1.6 MB)\n",
      "   ---------------------------------------- 0.0/1.6 MB ? eta -:--:--\n",
      "   ------------------- -------------------- 0.8/1.6 MB 26.1 MB/s eta 0:00:01\n",
      "   ----------------------------- ---------- 1.2/1.6 MB 12.7 MB/s eta 0:00:01\n",
      "   ------------------------------------ --- 1.5/1.6 MB 12.0 MB/s eta 0:00:01\n",
      "   ---------------------------------------- 1.6/1.6 MB 10.5 MB/s eta 0:00:00\n",
      "Downloading tabulate-0.9.0-py3-none-any.whl (35 kB)\n",
      "Downloading unstructured_client-0.25.1-py3-none-any.whl (43 kB)\n",
      "   ---------------------------------------- 0.0/43.5 kB ? eta -:--:--\n",
      "   ---------------------------------------- 43.5/43.5 kB 2.2 MB/s eta 0:00:00\n",
      "Downloading deepdiff-7.0.1-py3-none-any.whl (80 kB)\n",
      "   ---------------------------------------- 0.0/80.8 kB ? eta -:--:--\n",
      "   ---------------------------------------- 80.8/80.8 kB ? eta 0:00:00\n",
      "Downloading jsonpath_python-1.0.6-py3-none-any.whl (7.6 kB)\n",
      "Downloading pypdf-4.3.1-py3-none-any.whl (295 kB)\n",
      "   ---------------------------------------- 0.0/295.8 kB ? eta -:--:--\n",
      "   --------------------------------------- 295.8/295.8 kB 17.8 MB/s eta 0:00:00\n",
      "Downloading requests_toolbelt-1.0.0-py2.py3-none-any.whl (54 kB)\n",
      "   ---------------------------------------- 0.0/54.5 kB ? eta -:--:--\n",
      "   ---------------------------------------- 54.5/54.5 kB 2.9 MB/s eta 0:00:00\n",
      "Downloading ordered_set-4.1.0-py3-none-any.whl (7.6 kB)\n",
      "Building wheels for collected packages: pdfminer, langdetect\n",
      "  Building wheel for pdfminer (setup.py): started\n",
      "  Building wheel for pdfminer (setup.py): finished with status 'done'\n",
      "  Created wheel for pdfminer: filename=pdfminer-20191125-py3-none-any.whl size=6140150 sha256=1197c6cd71ec016768683baba0ba0615e78ba67b1b441c87c337ec3ea8813e28\n",
      "  Stored in directory: c:\\users\\sarthak\\appdata\\local\\pip\\cache\\wheels\\90\\7b\\26\\62139fb7c8c5c242c492e02ce8613ca4c3df4cd86afb8e6264\n",
      "  Building wheel for langdetect (setup.py): started\n",
      "  Building wheel for langdetect (setup.py): finished with status 'done'\n",
      "  Created wheel for langdetect: filename=langdetect-1.0.9-py3-none-any.whl size=993250 sha256=409e1aaf9e392d324b72fa2f34b72019ecc3af8d9a6d3d44bfd2cb121f579b05\n",
      "  Stored in directory: c:\\users\\sarthak\\appdata\\local\\pip\\cache\\wheels\\c1\\67\\88\\e844b5b022812e15a52e4eaa38a1e709e99f06f6639d7e3ba7\n",
      "Successfully built pdfminer langdetect\n",
      "Installing collected packages: filetype, tabulate, rapidfuzz, python-magic, python-iso639, PyPDF2, pypdf, pycryptodome, pdf2image, ordered-set, langdetect, jsonpath-python, emoji, chardet, backoff, tiktoken, requests-toolbelt, pdfminer, deepdiff, unstructured-client, unstructured\n",
      "Successfully installed PyPDF2-3.0.1 backoff-2.2.1 chardet-5.2.0 deepdiff-7.0.1 emoji-2.12.1 filetype-1.2.0 jsonpath-python-1.0.6 langdetect-1.0.9 ordered-set-4.1.0 pdf2image-1.17.0 pdfminer-20191125 pycryptodome-3.20.0 pypdf-4.3.1 python-iso639-2024.4.27 python-magic-0.4.27 rapidfuzz-3.9.5 requests-toolbelt-1.0.0 tabulate-0.9.0 tiktoken-0.7.0 unstructured-0.15.0 unstructured-client-0.25.1\n"
     ]
    }
   ],
   "source": [
    "!pip install langchain openai streamlit tiktoken unstructured pdf2image pdfminer PyPDF2"
   ]
  },
  {
   "cell_type": "code",
   "execution_count": 53,
   "id": "52ca60c8-2b5b-4ccc-a048-1d794c05cc4e",
   "metadata": {},
   "outputs": [],
   "source": [
    "import os \n",
    "open_api_key=\"...\"\n",
    "os.environ[\"OPENAI_API_KEY\"]=open_api_key"
   ]
  },
  {
   "cell_type": "code",
   "execution_count": 6,
   "id": "0819f1c0-523a-455e-9823-9213e358b993",
   "metadata": {},
   "outputs": [],
   "source": [
    "## Basic Prompt Summarization\n",
    "from langchain.chat_models import ChatOpenAI\n",
    "from langchain.schema import(\n",
    "    AIMessage,\n",
    "    HumanMessage,\n",
    "    SystemMessage\n",
    ")"
   ]
  },
  {
   "cell_type": "code",
   "execution_count": 7,
   "id": "27160ed0-826c-487e-8cd1-b76460c184d9",
   "metadata": {},
   "outputs": [],
   "source": [
    "speech=\"\"\"\n",
    "Vice President Johnson, Mr. Speaker, Mr. Chief Justice, President Eisenhower, Vice President\n",
    "Nixon, President Truman, reverend clergy, fellow citizens:\n",
    "We observe today not a victory of party, but a celebration of freedom -- symbolizing an end,\n",
    "as well as a beginning -- signifying renewal, as well as change. For I have sworn before you\n",
    "and Almighty God the same solemn oath our forebears prescribed nearly a century and threequarters ago.\n",
    "The world is very different now. For man holds in his mortal hands the power to abolish all\n",
    "forms of human poverty and all forms of human life. And yet the same revolutionary beliefs\n",
    "for which our forebears fought are still at issue around the globe -- the belief that the rights of\n",
    "man come not from the generosity of the state, but from the hand of God.\n",
    "We dare not forget today that we are the heirs of that first revolution.\n",
    "\n",
    "AmericanRhetoric.com\n",
    "Transcription by Michael E. Eidenmuller. Property of AmericanRhetoric.com Updated 1/4/22 Page 2\n",
    "Let the word go forth from this time and place, to friend and foe alike, that the torch has been\n",
    "passed to a new generation of Americans -- born in this century, tempered by war, disciplined\n",
    "by a hard and bitter peace, proud of our ancient heritage, and unwilling to witness or permit\n",
    "the slow undoing of those human rights to which this nation has always been committed, and\n",
    "to which we are committed today at home and around the world.\n",
    "Let every nation know, whether it wishes us well or ill, that we shall pay any price, bear any\n",
    "burden, meet any hardship, support any friend, oppose any foe, to assure the survival and the\n",
    "success of liberty.\n",
    "This much we pledge -- and more.\n",
    "To those old allies whose cultural and spiritual origins we share, we pledge the loyalty of\n",
    "faithful friends. United there is little we cannot do in a host of cooperative ventures. Divided\n",
    "there is little we can do -- for we dare not meet a powerful challenge at odds and split\n",
    "asunder.\n",
    "To those new states whom we welcome to the ranks of the free, we pledge our word that one\n",
    "form of colonial control shall not have passed away merely to be replaced by a far more iron\n",
    "tyranny. We shall not always expect to find them supporting our view. But we shall always\n",
    "hope to find them strongly supporting their own freedom -- and to remember that, in the\n",
    "past, those who foolishly sought power by riding the back of the tiger ended up inside.\n",
    "To those people in the huts and villages of half the globe struggling to break the bonds of\n",
    "mass misery, we pledge our best efforts to help them help themselves, for whatever period is\n",
    "required -- not because the Communists may be doing it, not because we seek their votes,\n",
    "but because it is right. If a free society cannot help the many who are poor, it cannot save the\n",
    "few who are rich.\n",
    "To our sister republics south of our border, we offer a special pledge: to convert our good\n",
    "words into good deeds, in a new alliance for progress, to assist free men and free\n",
    "governments in casting off the chains of poverty. But this peaceful revolution of hope cannot\n",
    "become the prey of hostile powers. Let all our neighbors know that we shall join with them to\n",
    "oppose aggression or subversion anywhere in the Americas. And let every other power know\n",
    "that this hemisphere intends to remain the master of its own house.\n",
    "\n",
    "AmericanRhetoric.com\n",
    "Transcription by Michael E. Eidenmuller. Property of AmericanRhetoric.com Updated 1/4/22 Page 3\n",
    "To that world assembly of sovereign states, the United Nations, our last best hope in an age\n",
    "where the instruments of war have far outpaced the instruments of peace, we renew our\n",
    "pledge of support -- to prevent it from becoming merely a forum for invective, to strengthen\n",
    "its shield of the new and the weak, and to enlarge the area in which its writ may run.\n",
    "Finally, to those nations who would make themselves our adversary, we offer not a pledge but\n",
    "a request: that both sides begin anew the quest for peace, before the dark powers of\n",
    "destruction unleashed by science engulf all humanity in planned or accidental self-destruction.\n",
    "We dare not tempt them with weakness. For only when our arms are sufficient beyond doubt\n",
    "can we be certain beyond doubt that they will never be employed.\n",
    "But neither can two great and powerful groups of nations take comfort from our present\n",
    "course -- both sides overburdened by the cost of modern weapons, both rightly alarmed by\n",
    "the steady spread of the deadly atom, yet both racing to alter that uncertain balance of terror\n",
    "that stays the hand of mankind's final war.\n",
    "So let us begin anew -- remembering on both sides that civility is not a sign of weakness, and\n",
    "sincerity is always subject to proof. Let us never negotiate out of fear, but let us never fear to\n",
    "negotiate.\n",
    "Let both sides explore what problems unite us instead of belaboring those problems which\n",
    "divide us.\n",
    "Let both sides, for the first time, formulate serious and precise proposals for the inspection\n",
    "and control of arms, and bring the absolute power to destroy other nations under the absolute\n",
    "control of all nations.\n",
    "Let both sides seek to invoke the wonders of science instead of its terrors. Together let us\n",
    "explore the stars, conquer the deserts, eradicate disease, tap the ocean depths, and\n",
    "encourage the arts and commerce.\n",
    "Let both sides unite to heed, in all corners of the earth, the command of Isaiah -- to \"undo the\n",
    "heavy burdens, and [to] let the oppressed go free.\"¹\n",
    "And, if a beachhead of cooperation may push back the jungle of suspicion, let both sides join\n",
    "in creating a new endeavor -- not a new balance of power, but a new world of law -- where\n",
    "the strong are just, and the weak secure, and the peace preserved.\n",
    "\n",
    "AmericanRhetoric.com\n",
    "Transcription by Michael E. Eidenmuller. Property of AmericanRhetoric.com Updated 1/4/22 Page 4\n",
    "All this will not be finished in the first one hundred days. Nor will it be finished in the first one\n",
    "thousand days; nor in the life of this Administration; nor even perhaps in our lifetime on this\n",
    "planet. But let us begin.\n",
    "In your hands, my fellow citizens, more than mine, will rest the final success or failure of our\n",
    "course. Since this country was founded, each generation of Americans has been summoned to\n",
    "give testimony to its national loyalty. The graves of young Americans who answered the call\n",
    "to service surround the globe.\n",
    "Now the trumpet summons us again -- not as a call to bear arms, though arms we need -- not\n",
    "as a call to battle, though embattled we are -- but a call to bear the burden of a long twilight\n",
    "struggle, year in and year out, \"rejoicing in hope; patient in tribulation,\"² a struggle against\n",
    "the common enemies of man: tyranny, poverty, disease, and war itself.\n",
    "Can we forge against these enemies a grand and global alliance, North and South, East and\n",
    "West, that can assure a more fruitful life for all mankind? Will you join in that historic effort?\n",
    "In the long history of the world, only a few generations have been granted the role of\n",
    "defending freedom in its hour of maximum danger. I do not shrink from this responsibility -- I\n",
    "welcome it. I do not believe that any of us would exchange places with any other people or\n",
    "any other generation. The energy, the faith, the devotion which we bring to this endeavor will\n",
    "light our country and all who serve it. And the glow from that fire can truly light the world.\n",
    "And so, my fellow Americans, ask not what your country can do for you; ask what you can do\n",
    "for your country.\n",
    "My fellow citizens of the world, ask not what America will do for you, but what together we\n",
    "can do for the freedom of man.\n",
    "Finally, whether you are citizens of America or citizens of the world, ask of us here the same\n",
    "high standards of strength and sacrifice which we ask of you. With a good conscience our only\n",
    "sure reward, with history the final judge of our deeds, let us go forth to lead the land we love,\n",
    "asking His blessing and His help, but knowing that here on earth God's work must truly be our\n",
    "own.\n",
    "\"\"\""
   ]
  },
  {
   "cell_type": "code",
   "execution_count": 8,
   "id": "fc2f55dc-5af3-4f41-b8e4-4dd7028fa5f5",
   "metadata": {},
   "outputs": [
    {
     "name": "stderr",
     "output_type": "stream",
     "text": [
      "D:\\Python\\Lib\\site-packages\\langchain_core\\_api\\deprecation.py:139: LangChainDeprecationWarning: The class `ChatOpenAI` was deprecated in LangChain 0.0.10 and will be removed in 0.3.0. An updated version of the class exists in the langchain-openai package and should be used instead. To use it run `pip install -U langchain-openai` and import as `from langchain_openai import ChatOpenAI`.\n",
      "  warn_deprecated(\n"
     ]
    }
   ],
   "source": [
    "chat_messages=[\n",
    "    SystemMessage(content='You are an expert assistant with expertize in summarizing speeches'),\n",
    "    HumanMessage(content=f'Please provide a short and concise summary of the following speech:\\n TEXT: {speech}')\n",
    "]\n",
    "\n",
    "llm=ChatOpenAI(model_name='gpt-3.5-turbo')"
   ]
  },
  {
   "cell_type": "code",
   "execution_count": 9,
   "id": "f5f6edc7-c9f1-407a-8d88-7085a77e5608",
   "metadata": {},
   "outputs": [
    {
     "data": {
      "text/plain": [
       "1772"
      ]
     },
     "execution_count": 9,
     "metadata": {},
     "output_type": "execute_result"
    }
   ],
   "source": [
    "llm.get_num_tokens(speech)"
   ]
  },
  {
   "cell_type": "code",
   "execution_count": 10,
   "id": "f03a8eb9-5fd4-49a0-a7bd-049c3a58a9da",
   "metadata": {},
   "outputs": [
    {
     "name": "stderr",
     "output_type": "stream",
     "text": [
      "D:\\Python\\Lib\\site-packages\\langchain_core\\_api\\deprecation.py:139: LangChainDeprecationWarning: The method `BaseChatModel.__call__` was deprecated in langchain-core 0.1.7 and will be removed in 0.3.0. Use invoke instead.\n",
      "  warn_deprecated(\n"
     ]
    },
    {
     "data": {
      "text/plain": [
       "'Summary:\\nThe speaker, addressing a diverse audience, emphasizes the importance of freedom and the need for a new generation to carry on the legacy of past revolutions. They highlight the global struggle for human rights and pledge unwavering support for liberty and democracy worldwide. The speech calls for cooperation, peace, and unity among nations, advocating for mutual respect, negotiation, and the pursuit of common goals. The speaker challenges listeners to join in a historic effort to combat tyranny, poverty, disease, and war, stressing the shared responsibility to defend freedom and work towards a better future for all mankind. The speech concludes with a call to action, urging individuals to contribute to the greater good and uphold high standards of strength and sacrifice in service to their country and humanity.'"
      ]
     },
     "execution_count": 10,
     "metadata": {},
     "output_type": "execute_result"
    }
   ],
   "source": [
    "llm(chat_messages).content"
   ]
  },
  {
   "cell_type": "code",
   "execution_count": 11,
   "id": "644e66d0-5a7d-468d-9142-1d5f8aa0c27d",
   "metadata": {},
   "outputs": [
    {
     "name": "stdout",
     "output_type": "stream",
     "text": [
      "In this speech, the speaker highlights the importance of freedom and the responsibility to uphold it. They emphasize the need for global cooperation to address common challenges such as poverty, tyranny, and war. The speaker calls for a new era of peace and unity, urging both sides to work together towards common goals. They stress the enduring commitment to freedom and justice, urging citizens to contribute to the greater good. Ultimately, the speaker calls for collective effort and sacrifice to create a better world for all.\n"
     ]
    }
   ],
   "source": [
    "##get_summary\n",
    "print(llm(chat_messages).content)"
   ]
  },
  {
   "cell_type": "code",
   "execution_count": 12,
   "id": "2f4e18d6-ba3d-4bc5-898b-258f9ff81a6d",
   "metadata": {},
   "outputs": [],
   "source": [
    "from langchain.chains import LLMChain\n",
    "from langchain import PromptTemplate"
   ]
  },
  {
   "cell_type": "code",
   "execution_count": 13,
   "id": "71f38bb5-9708-4109-ac5e-cec739a97652",
   "metadata": {},
   "outputs": [],
   "source": [
    "generic_template='''\n",
    "Write a summary of the following speech:\n",
    "Speech : `{speech}`\n",
    "Translate the precise summary to {language}.\n",
    "'''\n",
    "prompt=PromptTemplate(\n",
    "    input_variables=['speech','language'],\n",
    "    template=generic_template\n",
    ")"
   ]
  },
  {
   "cell_type": "code",
   "execution_count": 14,
   "id": "60a535b4-a148-461d-80e1-69b36a35a87e",
   "metadata": {},
   "outputs": [
    {
     "data": {
      "text/plain": [
       "'\\nWrite a summary of the following speech:\\nSpeech : `\\nVice President Johnson, Mr. Speaker, Mr. Chief Justice, President Eisenhower, Vice President\\nNixon, President Truman, reverend clergy, fellow citizens:\\nWe observe today not a victory of party, but a celebration of freedom -- symbolizing an end,\\nas well as a beginning -- signifying renewal, as well as change. For I have sworn before you\\nand Almighty God the same solemn oath our forebears prescribed nearly a century and threequarters ago.\\nThe world is very different now. For man holds in his mortal hands the power to abolish all\\nforms of human poverty and all forms of human life. And yet the same revolutionary beliefs\\nfor which our forebears fought are still at issue around the globe -- the belief that the rights of\\nman come not from the generosity of the state, but from the hand of God.\\nWe dare not forget today that we are the heirs of that first revolution.\\n\\nAmericanRhetoric.com\\nTranscription by Michael E. Eidenmuller. Property of AmericanRhetoric.com Updated 1/4/22 Page 2\\nLet the word go forth from this time and place, to friend and foe alike, that the torch has been\\npassed to a new generation of Americans -- born in this century, tempered by war, disciplined\\nby a hard and bitter peace, proud of our ancient heritage, and unwilling to witness or permit\\nthe slow undoing of those human rights to which this nation has always been committed, and\\nto which we are committed today at home and around the world.\\nLet every nation know, whether it wishes us well or ill, that we shall pay any price, bear any\\nburden, meet any hardship, support any friend, oppose any foe, to assure the survival and the\\nsuccess of liberty.\\nThis much we pledge -- and more.\\nTo those old allies whose cultural and spiritual origins we share, we pledge the loyalty of\\nfaithful friends. United there is little we cannot do in a host of cooperative ventures. Divided\\nthere is little we can do -- for we dare not meet a powerful challenge at odds and split\\nasunder.\\nTo those new states whom we welcome to the ranks of the free, we pledge our word that one\\nform of colonial control shall not have passed away merely to be replaced by a far more iron\\ntyranny. We shall not always expect to find them supporting our view. But we shall always\\nhope to find them strongly supporting their own freedom -- and to remember that, in the\\npast, those who foolishly sought power by riding the back of the tiger ended up inside.\\nTo those people in the huts and villages of half the globe struggling to break the bonds of\\nmass misery, we pledge our best efforts to help them help themselves, for whatever period is\\nrequired -- not because the Communists may be doing it, not because we seek their votes,\\nbut because it is right. If a free society cannot help the many who are poor, it cannot save the\\nfew who are rich.\\nTo our sister republics south of our border, we offer a special pledge: to convert our good\\nwords into good deeds, in a new alliance for progress, to assist free men and free\\ngovernments in casting off the chains of poverty. But this peaceful revolution of hope cannot\\nbecome the prey of hostile powers. Let all our neighbors know that we shall join with them to\\noppose aggression or subversion anywhere in the Americas. And let every other power know\\nthat this hemisphere intends to remain the master of its own house.\\n\\nAmericanRhetoric.com\\nTranscription by Michael E. Eidenmuller. Property of AmericanRhetoric.com Updated 1/4/22 Page 3\\nTo that world assembly of sovereign states, the United Nations, our last best hope in an age\\nwhere the instruments of war have far outpaced the instruments of peace, we renew our\\npledge of support -- to prevent it from becoming merely a forum for invective, to strengthen\\nits shield of the new and the weak, and to enlarge the area in which its writ may run.\\nFinally, to those nations who would make themselves our adversary, we offer not a pledge but\\na request: that both sides begin anew the quest for peace, before the dark powers of\\ndestruction unleashed by science engulf all humanity in planned or accidental self-destruction.\\nWe dare not tempt them with weakness. For only when our arms are sufficient beyond doubt\\ncan we be certain beyond doubt that they will never be employed.\\nBut neither can two great and powerful groups of nations take comfort from our present\\ncourse -- both sides overburdened by the cost of modern weapons, both rightly alarmed by\\nthe steady spread of the deadly atom, yet both racing to alter that uncertain balance of terror\\nthat stays the hand of mankind\\'s final war.\\nSo let us begin anew -- remembering on both sides that civility is not a sign of weakness, and\\nsincerity is always subject to proof. Let us never negotiate out of fear, but let us never fear to\\nnegotiate.\\nLet both sides explore what problems unite us instead of belaboring those problems which\\ndivide us.\\nLet both sides, for the first time, formulate serious and precise proposals for the inspection\\nand control of arms, and bring the absolute power to destroy other nations under the absolute\\ncontrol of all nations.\\nLet both sides seek to invoke the wonders of science instead of its terrors. Together let us\\nexplore the stars, conquer the deserts, eradicate disease, tap the ocean depths, and\\nencourage the arts and commerce.\\nLet both sides unite to heed, in all corners of the earth, the command of Isaiah -- to \"undo the\\nheavy burdens, and [to] let the oppressed go free.\"¹\\nAnd, if a beachhead of cooperation may push back the jungle of suspicion, let both sides join\\nin creating a new endeavor -- not a new balance of power, but a new world of law -- where\\nthe strong are just, and the weak secure, and the peace preserved.\\n\\nAmericanRhetoric.com\\nTranscription by Michael E. Eidenmuller. Property of AmericanRhetoric.com Updated 1/4/22 Page 4\\nAll this will not be finished in the first one hundred days. Nor will it be finished in the first one\\nthousand days; nor in the life of this Administration; nor even perhaps in our lifetime on this\\nplanet. But let us begin.\\nIn your hands, my fellow citizens, more than mine, will rest the final success or failure of our\\ncourse. Since this country was founded, each generation of Americans has been summoned to\\ngive testimony to its national loyalty. The graves of young Americans who answered the call\\nto service surround the globe.\\nNow the trumpet summons us again -- not as a call to bear arms, though arms we need -- not\\nas a call to battle, though embattled we are -- but a call to bear the burden of a long twilight\\nstruggle, year in and year out, \"rejoicing in hope; patient in tribulation,\"² a struggle against\\nthe common enemies of man: tyranny, poverty, disease, and war itself.\\nCan we forge against these enemies a grand and global alliance, North and South, East and\\nWest, that can assure a more fruitful life for all mankind? Will you join in that historic effort?\\nIn the long history of the world, only a few generations have been granted the role of\\ndefending freedom in its hour of maximum danger. I do not shrink from this responsibility -- I\\nwelcome it. I do not believe that any of us would exchange places with any other people or\\nany other generation. The energy, the faith, the devotion which we bring to this endeavor will\\nlight our country and all who serve it. And the glow from that fire can truly light the world.\\nAnd so, my fellow Americans, ask not what your country can do for you; ask what you can do\\nfor your country.\\nMy fellow citizens of the world, ask not what America will do for you, but what together we\\ncan do for the freedom of man.\\nFinally, whether you are citizens of America or citizens of the world, ask of us here the same\\nhigh standards of strength and sacrifice which we ask of you. With a good conscience our only\\nsure reward, with history the final judge of our deeds, let us go forth to lead the land we love,\\nasking His blessing and His help, but knowing that here on earth God\\'s work must truly be our\\nown.\\n`\\nTranslate the precise summary to Hindi.\\n'"
      ]
     },
     "execution_count": 14,
     "metadata": {},
     "output_type": "execute_result"
    }
   ],
   "source": [
    "prompt.format(speech=speech,language='Hindi')"
   ]
  },
  {
   "cell_type": "code",
   "execution_count": 15,
   "id": "8a68f3bf-70fd-4af4-8fc0-3d9f0378a135",
   "metadata": {},
   "outputs": [],
   "source": [
    "complete_prompt=prompt.format(speech=speech,language='Hindi')"
   ]
  },
  {
   "cell_type": "code",
   "execution_count": 16,
   "id": "e68a25a7-4d07-4d19-86fd-538b1f20638d",
   "metadata": {},
   "outputs": [
    {
     "data": {
      "text/plain": [
       "1791"
      ]
     },
     "execution_count": 16,
     "metadata": {},
     "output_type": "execute_result"
    }
   ],
   "source": [
    "llm.get_num_tokens(complete_prompt)"
   ]
  },
  {
   "cell_type": "code",
   "execution_count": 17,
   "id": "845a8454-8eb5-4e62-9952-b420101ff277",
   "metadata": {},
   "outputs": [
    {
     "name": "stderr",
     "output_type": "stream",
     "text": [
      "D:\\Python\\Lib\\site-packages\\langchain_core\\_api\\deprecation.py:139: LangChainDeprecationWarning: The class `LLMChain` was deprecated in LangChain 0.1.17 and will be removed in 0.3.0. Use RunnableSequence, e.g., `prompt | llm` instead.\n",
      "  warn_deprecated(\n",
      "D:\\Python\\Lib\\site-packages\\langchain_core\\_api\\deprecation.py:139: LangChainDeprecationWarning: The method `Chain.run` was deprecated in langchain 0.1.0 and will be removed in 0.3.0. Use invoke instead.\n",
      "  warn_deprecated(\n"
     ]
    }
   ],
   "source": [
    "llm_chain=LLMChain(llm=llm,prompt=prompt)\n",
    "summary=llm_chain.run({'speech':speech,'language':'hindi'})"
   ]
  },
  {
   "cell_type": "code",
   "execution_count": 18,
   "id": "e9ffb2fd-50ea-4298-81b0-0f66c88a9c8c",
   "metadata": {},
   "outputs": [
    {
     "data": {
      "text/plain": [
       "'सारांश: इस भाषण में राष्ट्रपति ने भारतीय जनता से उनकी राष्ट्रीय भक्ति का साक्षातकरण करने के लिए कहा। उन्होंने विश्वास जताया कि वे यह जिम्मेदारी स्वागत करते हैं और उन्हें भारत के लिए क्या कर सकते हैं उसे पूछने की बजाय उनसे यह कहा कि वे अपने देश के लिए क्या कर सकते हैं। उन्होंने समाप्त किया कि दुनिया में शांति, समानता और स्वतंत्रता की रक्षा के लिए हमें साथ मिलकर काम करना चाहिए।'"
      ]
     },
     "execution_count": 18,
     "metadata": {},
     "output_type": "execute_result"
    }
   ],
   "source": [
    "summary"
   ]
  },
  {
   "cell_type": "code",
   "execution_count": 19,
   "id": "b4121b70-b74a-48ca-9bfb-53622de369de",
   "metadata": {},
   "outputs": [],
   "source": [
    "from PyPDF2 import PdfReader"
   ]
  },
  {
   "cell_type": "code",
   "execution_count": 22,
   "id": "f8b603bf-fb87-41f1-b7da-a5b3d96ef13d",
   "metadata": {},
   "outputs": [],
   "source": [
    "pdfreader = PdfReader('John F. Kennedy - Inaugural Address.pdf')"
   ]
  },
  {
   "cell_type": "code",
   "execution_count": 23,
   "id": "db84037a-a204-4aaa-a10d-bb0380053991",
   "metadata": {},
   "outputs": [],
   "source": [
    "from typing_extensions import Concatenate\n",
    "# read text from pdf\n",
    "text = ''\n",
    "for i, page in enumerate(pdfreader.pages):\n",
    "    content = page.extract_text()\n",
    "    if content:\n",
    "        text += content"
   ]
  },
  {
   "cell_type": "code",
   "execution_count": 24,
   "id": "8884d8ae-f5fc-4e0a-b022-19c0ef3ac047",
   "metadata": {},
   "outputs": [
    {
     "data": {
      "text/plain": [
       "'  \\nAAmmeerriiccaannRRhheettoorriicc..ccoomm  \\n \\nTranscription by Michael E. Eidenmuller.        Pro perty of American Rhetoric.com                                         Updated 1/4/22                         Page 1  John F. Kennedy \\nPresidential Inaugural Address  \\ndelivered 20 January 1961, Washington, D.C.  \\n \\n \\nAUTHENTICITY CERTIFIED: Text version below transcri bed directly from audio  \\nVice President Johnson, Mr. Speaker, Mr. Chief Just ice, President Eisenhower, Vice President \\nNixon, President Truman, reverend clergy, fellow ci tizens: \\n \\nWe observe today not a victory of party, but a cele bration of freedom -- symbolizing an end, \\nas well as a beginning -- signifying renewal, as we ll as change. For I have sworn before you \\nand Almighty God the same solemn oath our forebears  prescribed nearly a century and three-\\nquarters ago.  \\nThe world is very different now. For man holds in h is mortal hands the power to abolish all \\nforms of human poverty and all forms of human life.  And yet the same revolutionary beliefs \\nfor which our forebears fought are still at issue a round the globe -- the belief that the rights of \\nman come not from the generosity of the state, but from the hand of God.  \\nWe dare not forget today that we are the heirs of t hat first revolution.   \\nAAmmeerriiccaannRRhheettoorriicc..ccoomm  \\n \\nTranscription by Michael E. Eidenmuller.        Pro perty of American Rhetoric.com                                         Updated 1/4/22                         Page 2  Let the word go forth from this time and place, to friend and foe alike, that the torch has been \\npassed to a new generation of Americans -- born in this century, tempered by war, disciplined \\nby a hard and bitter peace, proud of our ancient he ritage, and unwilling to witness or permit \\nthe slow undoing of those human rights to which thi s nation has always been committed, and \\nto which we are committed today at home and around the world. \\nLet every nation know, whether it wishes us well or  ill, that we shall pay any price, bear any \\nburden, meet any hardship, support any friend, oppo se any foe, to assure the survival and the \\nsuccess of liberty. \\nThis much we pledge -- and more. \\n \\nTo those old allies whose cultural and spiritual or igins we share, we pledge the loyalty of \\nfaithful friends. United there is little we cannot do in a host of cooperative ventures. Divided \\nthere is little we can do -- for we dare not meet a  powerful challenge at odds and split \\nasunder.  \\nTo those new states whom we welcome to the ranks of  the free, we pledge our word that one \\nform of colonial control shall not have passed away  merely to be replaced by a far more iron \\ntyranny. We shall not always expect to find them su pporting our view. But we shall always \\nhope to find them strongly supporting their own fre edom -- and to remember that, in the \\npast, those who foolishly sought power by riding th e back of the tiger ended up inside.  \\nTo those people in the huts and villages of half th e globe struggling to break the bonds of \\nmass misery, we pledge our best efforts to help the m help themselves, for whatever period is \\nrequired -- not because the Communists may be doing  it, not because we seek their votes, \\nbut because it is right. If a free society cannot h elp the many who are poor, it cannot save the \\nfew who are rich.  \\nTo our sister republics south of our border, we off er a special pledge: to convert our good \\nwords into good deeds, in a new alliance for progre ss, to assist free men and free \\ngovernments in casting off the chains of poverty. B ut this peaceful revolution of hope cannot \\nbecome the prey of hostile powers. Let all our neig hbors know that we shall join with them to \\noppose aggression or subversion anywhere in the Ame ricas. And let every other power know \\nthat this hemisphere intends to remain the master o f its own house.  \\n   \\nAAmmeerriiccaannRRhheettoorriicc..ccoomm  \\n \\nTranscription by Michael E. Eidenmuller.        Pro perty of American Rhetoric.com                                         Updated 1/4/22                         Page 3  To that world assembly of sovereign states, the Uni ted Nations, our last best hope in an age \\nwhere the instruments of war have far outpaced the instruments of peace, we renew our \\npledge of support -- to prevent it from becoming me rely a forum for invective, to strengthen \\nits shield of the new and the weak, and to enlarge the area in which its writ may run. \\n \\nFinally, to those nations who would make themselves  our adversary, we offer not a pledge but \\na request: that both sides begin anew the quest for  peace, before the dark powers of \\ndestruction unleashed by science engulf all humanit y in planned or accidental self-destruction. \\n \\nWe dare not tempt them with weakness. For only when  our arms are sufficient beyond doubt \\ncan we be certain beyond doubt that they will never  be employed. \\nBut neither can two great and powerful groups of na tions take comfort from our present \\ncourse -- both sides overburdened by the cost of mo dern weapons, both rightly alarmed by \\nthe steady spread of the deadly atom, yet both raci ng to alter that uncertain balance of terror \\nthat stays the hand of mankind\\'s final war.  \\nSo let us begin anew -- remembering on both sides t hat civility is not a sign of weakness, and \\nsincerity is always subject to proof. Let us never negotiate out of fear, but let us never fear to \\nnegotiate.  \\nLet both sides explore what problems unite us inste ad of belaboring those problems which \\ndivide us. \\n \\nLet both sides, for the first time, formulate serio us and precise proposals for the inspection \\nand control of arms, and bring the absolute power t o destroy other nations under the absolute \\ncontrol of all nations. \\n \\nLet both sides seek to invoke the wonders of scienc e instead of its terrors. Together let us \\nexplore the stars, conquer the deserts, eradicate d isease, tap the ocean depths, and \\nencourage the arts and commerce. \\n \\nLet both sides unite to heed, in all corners of the  earth, the command of Isaiah -- to \"undo the \\nheavy burdens, and [to] let the oppressed go free.\" ¹ \\n \\nAnd, if a beachhead of cooperation may push back th e jungle of suspicion, let both sides join \\nin creating a new endeavor -- not a new balance of power, but a new world of law -- where \\nthe strong are just, and the weak secure, and the p eace preserved.   \\nAAmmeerriiccaannRRhheettoorriicc..ccoomm  \\n \\nTranscription by Michael E. Eidenmuller.        Pro perty of American Rhetoric.com                                         Updated 1/4/22                         Page 4  All this will not be finished in the first one hund red days. Nor will it be finished in the first one \\nthousand days; nor in the life of this Administrati on; nor even perhaps in our lifetime on this \\nplanet. But let us begin. \\n \\nIn your hands, my fellow citizens, more than mine, will rest the final success or failure of our \\ncourse. Since this country was founded, each genera tion of Americans has been summoned to \\ngive testimony to its national loyalty. The graves of young Americans who answered the call \\nto service surround the globe. \\n \\nNow the trumpet summons us again -- not as a call t o bear arms, though arms we need -- not \\nas a call to battle, though embattled we are -- but  a call to bear the burden of a long twilight \\nstruggle, year in and year out, \"rejoicing in hope;  patient in tribulation,\" ² a struggle against \\nthe common enemies of man: tyranny, poverty, diseas e, and war itself.  \\nCan we forge against these enemies a grand and glob al alliance, North and South, East and \\nWest, that can assure a more fruitful life for all mankind? Will you join in that historic effort? \\nIn the long history of the world, only a few genera tions have been granted the role of \\ndefending freedom in its hour of maximum danger. I do not shrink from this responsibility -- I \\nwelcome it. I do not believe that any of us would e xchange places with any other people or \\nany other generation. The energy, the faith, the de votion which we bring to this endeavor will \\nlight our country and all who serve it. And the glo w from that fire can truly light the world. \\n \\nAnd so, my fellow Americans, ask not what your coun try can do for you; ask what you can do \\nfor your country. \\n \\nMy fellow citizens of the world, ask not what Ameri ca will do for you, but what together we \\ncan do for the freedom of man.  \\nFinally, whether you are citizens of America or cit izens of the world, ask of us here the same \\nhigh standards of strength and sacrifice which we a sk of you. With a good conscience our only \\nsure reward, with history the final judge of our de eds, let us go forth to lead the land we love, \\nasking His blessing and His help, but knowing that here on earth God\\'s work must truly be our \\nown.  \\n¹ Isaiah 58:6 (King James Version of the Holy Bible)  \\n² Romans 12:12 (King James Version of the Holy Bible)  '"
      ]
     },
     "execution_count": 24,
     "metadata": {},
     "output_type": "execute_result"
    }
   ],
   "source": [
    "text"
   ]
  },
  {
   "cell_type": "code",
   "execution_count": 25,
   "id": "48d6f1e3-d5f5-4bdc-9d09-cb020fc57e78",
   "metadata": {},
   "outputs": [],
   "source": [
    "from langchain.docstore.document import Document"
   ]
  },
  {
   "cell_type": "code",
   "execution_count": 26,
   "id": "2a26a930-882f-4469-b96b-c76c484cbacd",
   "metadata": {},
   "outputs": [
    {
     "data": {
      "text/plain": [
       "[Document(page_content='  \\nAAmmeerriiccaannRRhheettoorriicc..ccoomm  \\n \\nTranscription by Michael E. Eidenmuller.        Pro perty of American Rhetoric.com                                         Updated 1/4/22                         Page 1  John F. Kennedy \\nPresidential Inaugural Address  \\ndelivered 20 January 1961, Washington, D.C.  \\n \\n \\nAUTHENTICITY CERTIFIED: Text version below transcri bed directly from audio  \\nVice President Johnson, Mr. Speaker, Mr. Chief Just ice, President Eisenhower, Vice President \\nNixon, President Truman, reverend clergy, fellow ci tizens: \\n \\nWe observe today not a victory of party, but a cele bration of freedom -- symbolizing an end, \\nas well as a beginning -- signifying renewal, as we ll as change. For I have sworn before you \\nand Almighty God the same solemn oath our forebears  prescribed nearly a century and three-\\nquarters ago.  \\nThe world is very different now. For man holds in h is mortal hands the power to abolish all \\nforms of human poverty and all forms of human life.  And yet the same revolutionary beliefs \\nfor which our forebears fought are still at issue a round the globe -- the belief that the rights of \\nman come not from the generosity of the state, but from the hand of God.  \\nWe dare not forget today that we are the heirs of t hat first revolution.   \\nAAmmeerriiccaannRRhheettoorriicc..ccoomm  \\n \\nTranscription by Michael E. Eidenmuller.        Pro perty of American Rhetoric.com                                         Updated 1/4/22                         Page 2  Let the word go forth from this time and place, to friend and foe alike, that the torch has been \\npassed to a new generation of Americans -- born in this century, tempered by war, disciplined \\nby a hard and bitter peace, proud of our ancient he ritage, and unwilling to witness or permit \\nthe slow undoing of those human rights to which thi s nation has always been committed, and \\nto which we are committed today at home and around the world. \\nLet every nation know, whether it wishes us well or  ill, that we shall pay any price, bear any \\nburden, meet any hardship, support any friend, oppo se any foe, to assure the survival and the \\nsuccess of liberty. \\nThis much we pledge -- and more. \\n \\nTo those old allies whose cultural and spiritual or igins we share, we pledge the loyalty of \\nfaithful friends. United there is little we cannot do in a host of cooperative ventures. Divided \\nthere is little we can do -- for we dare not meet a  powerful challenge at odds and split \\nasunder.  \\nTo those new states whom we welcome to the ranks of  the free, we pledge our word that one \\nform of colonial control shall not have passed away  merely to be replaced by a far more iron \\ntyranny. We shall not always expect to find them su pporting our view. But we shall always \\nhope to find them strongly supporting their own fre edom -- and to remember that, in the \\npast, those who foolishly sought power by riding th e back of the tiger ended up inside.  \\nTo those people in the huts and villages of half th e globe struggling to break the bonds of \\nmass misery, we pledge our best efforts to help the m help themselves, for whatever period is \\nrequired -- not because the Communists may be doing  it, not because we seek their votes, \\nbut because it is right. If a free society cannot h elp the many who are poor, it cannot save the \\nfew who are rich.  \\nTo our sister republics south of our border, we off er a special pledge: to convert our good \\nwords into good deeds, in a new alliance for progre ss, to assist free men and free \\ngovernments in casting off the chains of poverty. B ut this peaceful revolution of hope cannot \\nbecome the prey of hostile powers. Let all our neig hbors know that we shall join with them to \\noppose aggression or subversion anywhere in the Ame ricas. And let every other power know \\nthat this hemisphere intends to remain the master o f its own house.  \\n   \\nAAmmeerriiccaannRRhheettoorriicc..ccoomm  \\n \\nTranscription by Michael E. Eidenmuller.        Pro perty of American Rhetoric.com                                         Updated 1/4/22                         Page 3  To that world assembly of sovereign states, the Uni ted Nations, our last best hope in an age \\nwhere the instruments of war have far outpaced the instruments of peace, we renew our \\npledge of support -- to prevent it from becoming me rely a forum for invective, to strengthen \\nits shield of the new and the weak, and to enlarge the area in which its writ may run. \\n \\nFinally, to those nations who would make themselves  our adversary, we offer not a pledge but \\na request: that both sides begin anew the quest for  peace, before the dark powers of \\ndestruction unleashed by science engulf all humanit y in planned or accidental self-destruction. \\n \\nWe dare not tempt them with weakness. For only when  our arms are sufficient beyond doubt \\ncan we be certain beyond doubt that they will never  be employed. \\nBut neither can two great and powerful groups of na tions take comfort from our present \\ncourse -- both sides overburdened by the cost of mo dern weapons, both rightly alarmed by \\nthe steady spread of the deadly atom, yet both raci ng to alter that uncertain balance of terror \\nthat stays the hand of mankind\\'s final war.  \\nSo let us begin anew -- remembering on both sides t hat civility is not a sign of weakness, and \\nsincerity is always subject to proof. Let us never negotiate out of fear, but let us never fear to \\nnegotiate.  \\nLet both sides explore what problems unite us inste ad of belaboring those problems which \\ndivide us. \\n \\nLet both sides, for the first time, formulate serio us and precise proposals for the inspection \\nand control of arms, and bring the absolute power t o destroy other nations under the absolute \\ncontrol of all nations. \\n \\nLet both sides seek to invoke the wonders of scienc e instead of its terrors. Together let us \\nexplore the stars, conquer the deserts, eradicate d isease, tap the ocean depths, and \\nencourage the arts and commerce. \\n \\nLet both sides unite to heed, in all corners of the  earth, the command of Isaiah -- to \"undo the \\nheavy burdens, and [to] let the oppressed go free.\" ¹ \\n \\nAnd, if a beachhead of cooperation may push back th e jungle of suspicion, let both sides join \\nin creating a new endeavor -- not a new balance of power, but a new world of law -- where \\nthe strong are just, and the weak secure, and the p eace preserved.   \\nAAmmeerriiccaannRRhheettoorriicc..ccoomm  \\n \\nTranscription by Michael E. Eidenmuller.        Pro perty of American Rhetoric.com                                         Updated 1/4/22                         Page 4  All this will not be finished in the first one hund red days. Nor will it be finished in the first one \\nthousand days; nor in the life of this Administrati on; nor even perhaps in our lifetime on this \\nplanet. But let us begin. \\n \\nIn your hands, my fellow citizens, more than mine, will rest the final success or failure of our \\ncourse. Since this country was founded, each genera tion of Americans has been summoned to \\ngive testimony to its national loyalty. The graves of young Americans who answered the call \\nto service surround the globe. \\n \\nNow the trumpet summons us again -- not as a call t o bear arms, though arms we need -- not \\nas a call to battle, though embattled we are -- but  a call to bear the burden of a long twilight \\nstruggle, year in and year out, \"rejoicing in hope;  patient in tribulation,\" ² a struggle against \\nthe common enemies of man: tyranny, poverty, diseas e, and war itself.  \\nCan we forge against these enemies a grand and glob al alliance, North and South, East and \\nWest, that can assure a more fruitful life for all mankind? Will you join in that historic effort? \\nIn the long history of the world, only a few genera tions have been granted the role of \\ndefending freedom in its hour of maximum danger. I do not shrink from this responsibility -- I \\nwelcome it. I do not believe that any of us would e xchange places with any other people or \\nany other generation. The energy, the faith, the de votion which we bring to this endeavor will \\nlight our country and all who serve it. And the glo w from that fire can truly light the world. \\n \\nAnd so, my fellow Americans, ask not what your coun try can do for you; ask what you can do \\nfor your country. \\n \\nMy fellow citizens of the world, ask not what Ameri ca will do for you, but what together we \\ncan do for the freedom of man.  \\nFinally, whether you are citizens of America or cit izens of the world, ask of us here the same \\nhigh standards of strength and sacrifice which we a sk of you. With a good conscience our only \\nsure reward, with history the final judge of our de eds, let us go forth to lead the land we love, \\nasking His blessing and His help, but knowing that here on earth God\\'s work must truly be our \\nown.  \\n¹ Isaiah 58:6 (King James Version of the Holy Bible)  \\n² Romans 12:12 (King James Version of the Holy Bible)  ')]"
      ]
     },
     "execution_count": 26,
     "metadata": {},
     "output_type": "execute_result"
    }
   ],
   "source": [
    "docs = [Document(page_content=text)]\n",
    "docs"
   ]
  },
  {
   "cell_type": "code",
   "execution_count": 30,
   "id": "cb319ee1-0684-4f48-8fa8-61fcfcdcff67",
   "metadata": {},
   "outputs": [],
   "source": [
    "llm = ChatOpenAI(temperature=0, model_name='gpt-3.5-turbo')"
   ]
  },
  {
   "cell_type": "code",
   "execution_count": 31,
   "id": "db875b72-e0ad-4cb3-8286-7e101ea1f5de",
   "metadata": {},
   "outputs": [],
   "source": [
    "from langchain import PromptTemplate\n",
    "from langchain.chat_models import ChatOpenAI\n",
    "from langchain.chains.summarize import load_summarize_chain\n",
    "from langchain.docstore.document import Document"
   ]
  },
  {
   "cell_type": "code",
   "execution_count": 32,
   "id": "0fb16acd-11ab-4674-8d2c-1e8c1d3448d8",
   "metadata": {},
   "outputs": [],
   "source": [
    "template = '''Write a concise and short summary of the following speech.\n",
    "Speech: `{text}`\n",
    "'''\n",
    "prompt = PromptTemplate(\n",
    "    input_variables=['text'],\n",
    "    template=template\n",
    ")"
   ]
  },
  {
   "cell_type": "code",
   "execution_count": 33,
   "id": "2bc875f3-c9e0-49c0-bc26-cf28382ea6f0",
   "metadata": {},
   "outputs": [],
   "source": [
    "chain = load_summarize_chain(\n",
    "    llm,\n",
    "    chain_type='stuff',\n",
    "    prompt=prompt,\n",
    "    verbose=False\n",
    ")\n",
    "output_summary = chain.run(docs)"
   ]
  },
  {
   "cell_type": "code",
   "execution_count": 34,
   "id": "c9a6a97c-13c0-4347-b268-d1acae90ba5e",
   "metadata": {},
   "outputs": [
    {
     "data": {
      "text/plain": [
       "\"John F. Kennedy's Presidential Inaugural Address in 1961 emphasized the importance of freedom, human rights, and global cooperation. He called for a new generation of Americans to uphold these values and work towards peace and prosperity for all mankind. Kennedy urged both sides of the Cold War to seek peace through cooperation and highlighted the responsibility of Americans to defend freedom. He ended his speech with a call to action for citizens to contribute to the betterment of their country and the world.\""
      ]
     },
     "execution_count": 34,
     "metadata": {},
     "output_type": "execute_result"
    }
   ],
   "source": [
    "output_summary"
   ]
  },
  {
   "cell_type": "code",
   "execution_count": 35,
   "id": "49807adb-949c-4dba-992e-d7a3438993a2",
   "metadata": {},
   "outputs": [],
   "source": [
    "from langchain import PromptTemplate\n",
    "from langchain.chat_models import ChatOpenAI\n",
    "from langchain.chains.summarize import load_summarize_chain\n",
    "from langchain.text_splitter import RecursiveCharacterTextSplitter"
   ]
  },
  {
   "cell_type": "code",
   "execution_count": 37,
   "id": "880e7600-2491-4ab1-9745-372539f6645a",
   "metadata": {},
   "outputs": [],
   "source": [
    "# provide the path of  pdf file/files.\n",
    "pdfreader = PdfReader('John F. Kennedy - Inaugural Address.pdf')\n",
    "from typing_extensions import Concatenate\n",
    "# read text from pdf\n",
    "text = ''\n",
    "for i, page in enumerate(pdfreader.pages):\n",
    "    content = page.extract_text()\n",
    "    if content:\n",
    "        text += content"
   ]
  },
  {
   "cell_type": "code",
   "execution_count": 38,
   "id": "dcf5ee45-81f3-495e-a219-4eb3be643593",
   "metadata": {},
   "outputs": [],
   "source": [
    "llm = ChatOpenAI(temperature=0, model_name='gpt-3.5-turbo')"
   ]
  },
  {
   "cell_type": "code",
   "execution_count": 39,
   "id": "5e97e6b2-aa08-4cb7-bbd9-76612c07a866",
   "metadata": {},
   "outputs": [
    {
     "data": {
      "text/plain": [
       "2091"
      ]
     },
     "execution_count": 39,
     "metadata": {},
     "output_type": "execute_result"
    }
   ],
   "source": [
    "llm.get_num_tokens(text)"
   ]
  },
  {
   "cell_type": "code",
   "execution_count": 42,
   "id": "a38dcd80-9468-4f43-aa71-4a7c524c633f",
   "metadata": {},
   "outputs": [],
   "source": [
    "# Splittting the text\n",
    "text_splitter = RecursiveCharacterTextSplitter(chunk_size=10000, chunk_overlap=20)\n",
    "chunks = text_splitter.create_documents([text])"
   ]
  },
  {
   "cell_type": "code",
   "execution_count": 43,
   "id": "8f471a28-aaff-474a-91de-9508ff597f8d",
   "metadata": {},
   "outputs": [
    {
     "data": {
      "text/plain": [
       "1"
      ]
     },
     "execution_count": 43,
     "metadata": {},
     "output_type": "execute_result"
    }
   ],
   "source": [
    "len(chunks)"
   ]
  },
  {
   "cell_type": "code",
   "execution_count": 44,
   "id": "e0a6ba71-5e9b-4f4a-a199-75ad5c19239f",
   "metadata": {},
   "outputs": [],
   "source": [
    "chain = load_summarize_chain(\n",
    "    llm,\n",
    "    chain_type='map_reduce',\n",
    "    verbose=False\n",
    ")\n",
    "summary = chain.run(chunks)"
   ]
  },
  {
   "cell_type": "code",
   "execution_count": 45,
   "id": "d680bc86-0caa-4c6c-beba-15035aae518f",
   "metadata": {},
   "outputs": [
    {
     "data": {
      "text/plain": [
       "\"John F. Kennedy's 1961 Presidential Inaugural Address focused on freedom, human rights, and global cooperation, calling for unity against common enemies like tyranny and poverty. He urged Americans to defend freedom and work towards a better world through individual and collective sacrifice.\""
      ]
     },
     "execution_count": 45,
     "metadata": {},
     "output_type": "execute_result"
    }
   ],
   "source": [
    "summary"
   ]
  },
  {
   "cell_type": "raw",
   "id": "b355bc1c-51d5-430f-863c-73003437b7ec",
   "metadata": {},
   "source": [
    "Map Reduce method with custom prompts"
   ]
  },
  {
   "cell_type": "code",
   "execution_count": 46,
   "id": "1b1fe6b6-c01e-4366-8d8c-5937de08feaa",
   "metadata": {},
   "outputs": [],
   "source": [
    "chunks_prompt=\"\"\"\n",
    "Please summarize the below speech:\n",
    "Speech:`{text}'\n",
    "Summary:\n",
    "\"\"\"\n",
    "map_prompt_template=PromptTemplate(input_variables=['text'],\n",
    "                                    template=chunks_prompt)"
   ]
  },
  {
   "cell_type": "code",
   "execution_count": 47,
   "id": "d77c25e7-340e-42bd-95dd-c38159d0dce7",
   "metadata": {},
   "outputs": [],
   "source": [
    "final_combine_prompt='''\n",
    "Provide a final summary of the entire speech with these important points.\n",
    "Add a Generic Motivational Title,\n",
    "Start the precise summary with an introduction and provide the\n",
    "summary in number points for the speech.\n",
    "Speech: `{text}`\n",
    "'''\n",
    "final_combine_prompt_template=PromptTemplate(input_variables=['text'],\n",
    "                                             template=final_combine_prompt)"
   ]
  },
  {
   "cell_type": "code",
   "execution_count": 48,
   "id": "28fd5b52-f16a-4ce2-bdf2-cf5feae6b1fe",
   "metadata": {},
   "outputs": [],
   "source": [
    "summary_chain = load_summarize_chain(\n",
    "    llm=llm,\n",
    "    chain_type='map_reduce',\n",
    "    map_prompt=map_prompt_template,\n",
    "    combine_prompt=final_combine_prompt_template,\n",
    "    verbose=False\n",
    ")\n",
    "output = summary_chain.run(chunks)"
   ]
  },
  {
   "cell_type": "code",
   "execution_count": 50,
   "id": "2ebc75a1-bd47-466f-a92c-3adefa478c0f",
   "metadata": {},
   "outputs": [
    {
     "data": {
      "text/plain": [
       "'Title: \"United for a Better Tomorrow\"\\n\\nIntroduction:\\nIn his 1961 Presidential Inaugural Address, John F. Kennedy delivered a powerful message emphasizing the importance of freedom, human rights, and global cooperation. He called for unity in facing common enemies and urged individuals to work together towards a better future.\\n\\nSummary:\\n1. Kennedy highlighted the importance of freedom, human rights, and cooperation on a global scale.\\n2. He called for unity in facing common enemies such as tyranny, poverty, disease, and war.\\n3. Kennedy urged both Americans and citizens of the world to work together towards a better future.\\n4. He emphasized the need for strength, sacrifice, and a commitment to upholding high standards.\\n5. Kennedy concluded by stressing the importance of individuals taking responsibility for their country and the world, believing that God\\'s work must be carried out by humanity.'"
      ]
     },
     "execution_count": 50,
     "metadata": {},
     "output_type": "execute_result"
    }
   ],
   "source": [
    "output"
   ]
  },
  {
   "cell_type": "raw",
   "id": "2d344e47-3add-426a-8b01-2c37ec878165",
   "metadata": {},
   "source": [
    "Refine Chain for Summarization"
   ]
  },
  {
   "cell_type": "code",
   "execution_count": 51,
   "id": "d9a8cbc0-a442-46c3-bb5d-58c67e44104a",
   "metadata": {},
   "outputs": [
    {
     "name": "stdout",
     "output_type": "stream",
     "text": [
      "\n",
      "\n",
      "\u001b[1m> Entering new RefineDocumentsChain chain...\u001b[0m\n",
      "\n",
      "\n",
      "\u001b[1m> Entering new LLMChain chain...\u001b[0m\n",
      "Prompt after formatting:\n",
      "\u001b[32;1m\u001b[1;3mWrite a concise summary of the following:\n",
      "\n",
      "\n",
      "\"AAmmeerriiccaannRRhheettoorriicc..ccoomm  \n",
      " \n",
      "Transcription by Michael E. Eidenmuller.        Pro perty of American Rhetoric.com                                         Updated 1/4/22                         Page 1  John F. Kennedy \n",
      "Presidential Inaugural Address  \n",
      "delivered 20 January 1961, Washington, D.C.  \n",
      " \n",
      " \n",
      "AUTHENTICITY CERTIFIED: Text version below transcri bed directly from audio  \n",
      "Vice President Johnson, Mr. Speaker, Mr. Chief Just ice, President Eisenhower, Vice President \n",
      "Nixon, President Truman, reverend clergy, fellow ci tizens: \n",
      " \n",
      "We observe today not a victory of party, but a cele bration of freedom -- symbolizing an end, \n",
      "as well as a beginning -- signifying renewal, as we ll as change. For I have sworn before you \n",
      "and Almighty God the same solemn oath our forebears  prescribed nearly a century and three-\n",
      "quarters ago.  \n",
      "The world is very different now. For man holds in h is mortal hands the power to abolish all \n",
      "forms of human poverty and all forms of human life.  And yet the same revolutionary beliefs \n",
      "for which our forebears fought are still at issue a round the globe -- the belief that the rights of \n",
      "man come not from the generosity of the state, but from the hand of God.  \n",
      "We dare not forget today that we are the heirs of t hat first revolution.   \n",
      "AAmmeerriiccaannRRhheettoorriicc..ccoomm  \n",
      " \n",
      "Transcription by Michael E. Eidenmuller.        Pro perty of American Rhetoric.com                                         Updated 1/4/22                         Page 2  Let the word go forth from this time and place, to friend and foe alike, that the torch has been \n",
      "passed to a new generation of Americans -- born in this century, tempered by war, disciplined \n",
      "by a hard and bitter peace, proud of our ancient he ritage, and unwilling to witness or permit \n",
      "the slow undoing of those human rights to which thi s nation has always been committed, and \n",
      "to which we are committed today at home and around the world. \n",
      "Let every nation know, whether it wishes us well or  ill, that we shall pay any price, bear any \n",
      "burden, meet any hardship, support any friend, oppo se any foe, to assure the survival and the \n",
      "success of liberty. \n",
      "This much we pledge -- and more. \n",
      " \n",
      "To those old allies whose cultural and spiritual or igins we share, we pledge the loyalty of \n",
      "faithful friends. United there is little we cannot do in a host of cooperative ventures. Divided \n",
      "there is little we can do -- for we dare not meet a  powerful challenge at odds and split \n",
      "asunder.  \n",
      "To those new states whom we welcome to the ranks of  the free, we pledge our word that one \n",
      "form of colonial control shall not have passed away  merely to be replaced by a far more iron \n",
      "tyranny. We shall not always expect to find them su pporting our view. But we shall always \n",
      "hope to find them strongly supporting their own fre edom -- and to remember that, in the \n",
      "past, those who foolishly sought power by riding th e back of the tiger ended up inside.  \n",
      "To those people in the huts and villages of half th e globe struggling to break the bonds of \n",
      "mass misery, we pledge our best efforts to help the m help themselves, for whatever period is \n",
      "required -- not because the Communists may be doing  it, not because we seek their votes, \n",
      "but because it is right. If a free society cannot h elp the many who are poor, it cannot save the \n",
      "few who are rich.  \n",
      "To our sister republics south of our border, we off er a special pledge: to convert our good \n",
      "words into good deeds, in a new alliance for progre ss, to assist free men and free \n",
      "governments in casting off the chains of poverty. B ut this peaceful revolution of hope cannot \n",
      "become the prey of hostile powers. Let all our neig hbors know that we shall join with them to \n",
      "oppose aggression or subversion anywhere in the Ame ricas. And let every other power know \n",
      "that this hemisphere intends to remain the master o f its own house.  \n",
      "   \n",
      "AAmmeerriiccaannRRhheettoorriicc..ccoomm  \n",
      " \n",
      "Transcription by Michael E. Eidenmuller.        Pro perty of American Rhetoric.com                                         Updated 1/4/22                         Page 3  To that world assembly of sovereign states, the Uni ted Nations, our last best hope in an age \n",
      "where the instruments of war have far outpaced the instruments of peace, we renew our \n",
      "pledge of support -- to prevent it from becoming me rely a forum for invective, to strengthen \n",
      "its shield of the new and the weak, and to enlarge the area in which its writ may run. \n",
      " \n",
      "Finally, to those nations who would make themselves  our adversary, we offer not a pledge but \n",
      "a request: that both sides begin anew the quest for  peace, before the dark powers of \n",
      "destruction unleashed by science engulf all humanit y in planned or accidental self-destruction. \n",
      " \n",
      "We dare not tempt them with weakness. For only when  our arms are sufficient beyond doubt \n",
      "can we be certain beyond doubt that they will never  be employed. \n",
      "But neither can two great and powerful groups of na tions take comfort from our present \n",
      "course -- both sides overburdened by the cost of mo dern weapons, both rightly alarmed by \n",
      "the steady spread of the deadly atom, yet both raci ng to alter that uncertain balance of terror \n",
      "that stays the hand of mankind's final war.  \n",
      "So let us begin anew -- remembering on both sides t hat civility is not a sign of weakness, and \n",
      "sincerity is always subject to proof. Let us never negotiate out of fear, but let us never fear to \n",
      "negotiate.  \n",
      "Let both sides explore what problems unite us inste ad of belaboring those problems which \n",
      "divide us. \n",
      " \n",
      "Let both sides, for the first time, formulate serio us and precise proposals for the inspection \n",
      "and control of arms, and bring the absolute power t o destroy other nations under the absolute \n",
      "control of all nations. \n",
      " \n",
      "Let both sides seek to invoke the wonders of scienc e instead of its terrors. Together let us \n",
      "explore the stars, conquer the deserts, eradicate d isease, tap the ocean depths, and \n",
      "encourage the arts and commerce. \n",
      " \n",
      "Let both sides unite to heed, in all corners of the  earth, the command of Isaiah -- to \"undo the \n",
      "heavy burdens, and [to] let the oppressed go free.\" ¹ \n",
      " \n",
      "And, if a beachhead of cooperation may push back th e jungle of suspicion, let both sides join \n",
      "in creating a new endeavor -- not a new balance of power, but a new world of law -- where \n",
      "the strong are just, and the weak secure, and the p eace preserved.   \n",
      "AAmmeerriiccaannRRhheettoorriicc..ccoomm  \n",
      " \n",
      "Transcription by Michael E. Eidenmuller.        Pro perty of American Rhetoric.com                                         Updated 1/4/22                         Page 4  All this will not be finished in the first one hund red days. Nor will it be finished in the first one \n",
      "thousand days; nor in the life of this Administrati on; nor even perhaps in our lifetime on this \n",
      "planet. But let us begin. \n",
      " \n",
      "In your hands, my fellow citizens, more than mine, will rest the final success or failure of our \n",
      "course. Since this country was founded, each genera tion of Americans has been summoned to \n",
      "give testimony to its national loyalty. The graves of young Americans who answered the call \n",
      "to service surround the globe. \n",
      " \n",
      "Now the trumpet summons us again -- not as a call t o bear arms, though arms we need -- not \n",
      "as a call to battle, though embattled we are -- but  a call to bear the burden of a long twilight \n",
      "struggle, year in and year out, \"rejoicing in hope;  patient in tribulation,\" ² a struggle against \n",
      "the common enemies of man: tyranny, poverty, diseas e, and war itself.  \n",
      "Can we forge against these enemies a grand and glob al alliance, North and South, East and \n",
      "West, that can assure a more fruitful life for all mankind? Will you join in that historic effort? \n",
      "In the long history of the world, only a few genera tions have been granted the role of \n",
      "defending freedom in its hour of maximum danger. I do not shrink from this responsibility -- I \n",
      "welcome it. I do not believe that any of us would e xchange places with any other people or \n",
      "any other generation. The energy, the faith, the de votion which we bring to this endeavor will \n",
      "light our country and all who serve it. And the glo w from that fire can truly light the world. \n",
      " \n",
      "And so, my fellow Americans, ask not what your coun try can do for you; ask what you can do \n",
      "for your country. \n",
      " \n",
      "My fellow citizens of the world, ask not what Ameri ca will do for you, but what together we \n",
      "can do for the freedom of man.  \n",
      "Finally, whether you are citizens of America or cit izens of the world, ask of us here the same \n",
      "high standards of strength and sacrifice which we a sk of you. With a good conscience our only \n",
      "sure reward, with history the final judge of our de eds, let us go forth to lead the land we love, \n",
      "asking His blessing and His help, but knowing that here on earth God's work must truly be our \n",
      "own.  \n",
      "¹ Isaiah 58:6 (King James Version of the Holy Bible)  \n",
      "² Romans 12:12 (King James Version of the Holy Bible)\"\n",
      "\n",
      "\n",
      "CONCISE SUMMARY:\u001b[0m\n",
      "\n",
      "\u001b[1m> Finished chain.\u001b[0m\n",
      "\n",
      "\u001b[1m> Finished chain.\u001b[0m\n"
     ]
    }
   ],
   "source": [
    "chain = load_summarize_chain(\n",
    "    llm=llm,\n",
    "    chain_type='refine',\n",
    "    verbose=True\n",
    ")\n",
    "output_summary = chain.run(chunks)"
   ]
  },
  {
   "cell_type": "code",
   "execution_count": 52,
   "id": "cdf2beec-f6dc-4903-88b8-39a1f77ae4bc",
   "metadata": {},
   "outputs": [
    {
     "data": {
      "text/plain": [
       "\"John F. Kennedy's Presidential Inaugural Address delivered in 1961 emphasized the importance of freedom, human rights, and global cooperation. He called for unity in facing common enemies such as tyranny, poverty, disease, and war. Kennedy urged Americans to take responsibility for defending freedom and working towards a better world for all mankind. He emphasized the need for cooperation, sacrifice, and dedication to achieve these goals.\""
      ]
     },
     "execution_count": 52,
     "metadata": {},
     "output_type": "execute_result"
    }
   ],
   "source": [
    "output_summary"
   ]
  },
  {
   "cell_type": "code",
   "execution_count": null,
   "id": "cbc3aa37-9870-4839-9c30-0f30aa114480",
   "metadata": {},
   "outputs": [],
   "source": []
  }
 ],
 "metadata": {
  "kernelspec": {
   "display_name": "Python 3 (ipykernel)",
   "language": "python",
   "name": "python3"
  },
  "language_info": {
   "codemirror_mode": {
    "name": "ipython",
    "version": 3
   },
   "file_extension": ".py",
   "mimetype": "text/x-python",
   "name": "python",
   "nbconvert_exporter": "python",
   "pygments_lexer": "ipython3",
   "version": "3.12.2"
  }
 },
 "nbformat": 4,
 "nbformat_minor": 5
}
