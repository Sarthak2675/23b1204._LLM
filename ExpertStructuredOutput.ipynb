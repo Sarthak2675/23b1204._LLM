{
 "cells": [
  {
   "cell_type": "code",
   "execution_count": 2,
   "id": "53e5ccd1-5a66-4827-ace6-1efb3bb5c107",
   "metadata": {},
   "outputs": [
    {
     "name": "stdout",
     "output_type": "stream",
     "text": [
      "Collecting markdownify\n",
      "  Downloading markdownify-0.13.1-py3-none-any.whl.metadata (8.5 kB)\n",
      "Requirement already satisfied: beautifulsoup4<5,>=4.9 in d:\\python\\lib\\site-packages (from markdownify) (4.12.3)\n",
      "Requirement already satisfied: six<2,>=1.15 in d:\\python\\lib\\site-packages (from markdownify) (1.16.0)\n",
      "Requirement already satisfied: soupsieve>1.2 in d:\\python\\lib\\site-packages (from beautifulsoup4<5,>=4.9->markdownify) (2.5)\n",
      "Downloading markdownify-0.13.1-py3-none-any.whl (10 kB)\n",
      "Installing collected packages: markdownify\n",
      "Successfully installed markdownify-0.13.1\n"
     ]
    },
    {
     "name": "stderr",
     "output_type": "stream",
     "text": [
      "\n",
      "[notice] A new release of pip is available: 24.1.2 -> 24.2\n",
      "[notice] To update, run: python.exe -m pip install --upgrade pip\n"
     ]
    }
   ],
   "source": [
    "!pip install markdownify"
   ]
  },
  {
   "cell_type": "code",
   "execution_count": 3,
   "id": "11afd19a-b1c3-420b-aff0-f43a6c35ce31",
   "metadata": {},
   "outputs": [],
   "source": [
    "# LangChain Models\n",
    "from langchain.chat_models import ChatOpenAI\n",
    "from langchain.llms import OpenAI\n",
    "from langchain.schema import HumanMessage, SystemMessage, AIMessage\n",
    "\n",
    "# Standard Helpers\n",
    "import pandas as pd\n",
    "import requests\n",
    "import time\n",
    "import json\n",
    "from datetime import datetime\n",
    "import os\n",
    "from dotenv import load_dotenv\n",
    "\n",
    "load_dotenv()\n",
    "\n",
    "# Text Helpers\n",
    "from bs4 import BeautifulSoup\n",
    "from markdownify import markdownify as md\n",
    "\n",
    "# For token counting\n",
    "from langchain.callbacks import get_openai_callback\n",
    "\n",
    "def printOutput(output):\n",
    "    print(json.dumps(output,sort_keys=True, indent=3))"
   ]
  },
  {
   "cell_type": "code",
   "execution_count": 25,
   "id": "c8896482-b1db-4e70-bada-c7cda5c692ff",
   "metadata": {},
   "outputs": [],
   "source": [
    "openai_api_key = os.getenv(\"OPENAI_API_KEY\", '...')"
   ]
  },
  {
   "cell_type": "code",
   "execution_count": 10,
   "id": "30f74454-b317-4558-813a-d1e44c5137c4",
   "metadata": {},
   "outputs": [],
   "source": [
    "chat = ChatOpenAI(\n",
    "    model_name=\"gpt-3.5-turbo\", # Cheaper but less reliable\n",
    "    temperature=0,\n",
    "    max_tokens=2000,\n",
    "    openai_api_key=openai_api_key\n",
    ")"
   ]
  },
  {
   "cell_type": "raw",
   "id": "d6acdc71-8360-49ea-873d-aee156186288",
   "metadata": {},
   "source": [
    "Function calling "
   ]
  },
  {
   "cell_type": "code",
   "execution_count": 11,
   "id": "a695237b-812d-4f7a-a828-87b3b1812094",
   "metadata": {},
   "outputs": [],
   "source": [
    "functions = [\n",
    "    {\n",
    "        \"name\": \"get_food_mentioned\",\n",
    "        \"description\": \"Get the food that is mentioned in the review from the customer\",\n",
    "        \"parameters\": {\n",
    "            \"type\": \"object\",\n",
    "            \"properties\": {\n",
    "                \"food\": {\n",
    "                    \"type\": \"string\",\n",
    "                    \"description\": \"The type of food mentioned, ex: Ice cream\"\n",
    "                },\n",
    "                \"good_or_bad\": {\n",
    "                    \"type\": \"string\",\n",
    "                    \"description\": \"whether or not the user thought the food was good or bad\",\n",
    "                    \"enum\": [\"good\", \"bad\"]\n",
    "                }\n",
    "            },\n",
    "            \"required\": [\"location\"]\n",
    "        }\n",
    "    }\n",
    "]"
   ]
  },
  {
   "cell_type": "code",
   "execution_count": 12,
   "id": "f14cd364-5d56-4cea-93be-2209a5779d25",
   "metadata": {},
   "outputs": [],
   "source": [
    "output = chat(messages=\n",
    "     [\n",
    "         SystemMessage(content=\"You are an helpful AI bot\"),\n",
    "         HumanMessage(content=\"I thought the burgers were awesome\")\n",
    "     ],\n",
    "     functions=functions\n",
    ")"
   ]
  },
  {
   "cell_type": "code",
   "execution_count": 13,
   "id": "8bd10baf-4adb-41a6-8bd5-7069ceaaa8cb",
   "metadata": {},
   "outputs": [
    {
     "name": "stdout",
     "output_type": "stream",
     "text": [
      "{\n",
      "    \"function_call\": {\n",
      "        \"arguments\": \"{\\\"food\\\":\\\"burgers\\\",\\\"good_or_bad\\\":\\\"good\\\"}\",\n",
      "        \"name\": \"get_food_mentioned\"\n",
      "    }\n",
      "}\n"
     ]
    }
   ],
   "source": [
    "print(json.dumps(output.additional_kwargs, indent=4))"
   ]
  },
  {
   "cell_type": "raw",
   "id": "5e6af3e8-38e7-4722-bf16-5d2d01401f6a",
   "metadata": {},
   "source": [
    "Pydantic model"
   ]
  },
  {
   "cell_type": "code",
   "execution_count": 14,
   "id": "154be2f3-479f-4902-88ca-52490fd87786",
   "metadata": {},
   "outputs": [],
   "source": [
    "from langchain.pydantic_v1 import BaseModel, Field\n",
    "import enum\n",
    "\n",
    "class GoodOrBad(str, enum.Enum):\n",
    "    GOOD = \"Good\"\n",
    "    BAD = \"Bad\"\n",
    "\n",
    "class Food(BaseModel):\n",
    "    \"\"\"Identifying information about a person's food review.\"\"\"\n",
    "\n",
    "    name: str = Field(..., description=\"Name of the food mentioned\")\n",
    "    good_or_bad: GoodOrBad = Field(..., description=\"Whether or not the user thought the food was good or bad\")"
   ]
  },
  {
   "cell_type": "code",
   "execution_count": 15,
   "id": "05c16129-c819-457c-b16a-31d1931a7e48",
   "metadata": {},
   "outputs": [],
   "source": [
    "output = chat(messages=\n",
    "     [\n",
    "         SystemMessage(content=\"You are an helpful AI bot\"),\n",
    "         HumanMessage(content=\"I thought the burgers were awesome\")\n",
    "     ],\n",
    "     functions=[{\n",
    "         \"name\": \"FoodExtractor\",\n",
    "         \"description\": (\n",
    "             \"Identifying information about a person's food review.\"\n",
    "         ),\n",
    "         \"parameters\": Food.schema(),\n",
    "        }\n",
    "     ]\n",
    ")"
   ]
  },
  {
   "cell_type": "code",
   "execution_count": 16,
   "id": "b6c16eda-31c6-4423-a2e2-ba4953199414",
   "metadata": {},
   "outputs": [
    {
     "data": {
      "text/plain": [
       "AIMessage(content='', additional_kwargs={'function_call': {'arguments': '{\"name\":\"burgers\",\"good_or_bad\":\"Good\"}', 'name': 'FoodExtractor'}}, response_metadata={'token_usage': {'completion_tokens': 22, 'prompt_tokens': 125, 'total_tokens': 147}, 'model_name': 'gpt-3.5-turbo', 'system_fingerprint': None, 'finish_reason': 'function_call', 'logprobs': None}, id='run-28b7c1f4-b05b-4135-93be-55dd7e9a1f8c-0')"
      ]
     },
     "execution_count": 16,
     "metadata": {},
     "output_type": "execute_result"
    }
   ],
   "source": [
    "output"
   ]
  },
  {
   "cell_type": "code",
   "execution_count": 17,
   "id": "582b2c08-4ab1-4d0b-86f8-52b2471be9bb",
   "metadata": {},
   "outputs": [
    {
     "name": "stderr",
     "output_type": "stream",
     "text": [
      "D:\\Python\\Lib\\site-packages\\langchain_core\\_api\\deprecation.py:139: LangChainDeprecationWarning: LangChain has introduced a method called `with_structured_output` thatis available on ChatModels capable of tool calling.You can read more about the method here: https://python.langchain.com/docs/modules/model_io/chat/structured_output/Please follow our extraction use case documentation for more guidelineson how to do information extraction with LLMs.https://python.langchain.com/docs/use_cases/extraction/.If you notice other issues, please provide feedback here:https://github.com/langchain-ai/langchain/discussions/18154\n",
      "  warn_deprecated(\n",
      "D:\\Python\\Lib\\site-packages\\langchain_core\\_api\\deprecation.py:139: LangChainDeprecationWarning: The method `Chain.run` was deprecated in langchain 0.1.0 and will be removed in 0.3.0. Use invoke instead.\n",
      "  warn_deprecated(\n"
     ]
    },
    {
     "data": {
      "text/plain": [
       "[Food(name='burgers', good_or_bad=<GoodOrBad.GOOD: 'Good'>)]"
      ]
     },
     "execution_count": 17,
     "metadata": {},
     "output_type": "execute_result"
    }
   ],
   "source": [
    "from langchain.chains import create_extraction_chain_pydantic\n",
    "\n",
    "# Extraction\n",
    "chain = create_extraction_chain_pydantic(pydantic_schema=Food, llm=chat)\n",
    "\n",
    "# Run \n",
    "text = \"\"\"I like burgers they are great\"\"\"\n",
    "chain.run(text)"
   ]
  },
  {
   "cell_type": "raw",
   "id": "ffa71bb7-03e5-471e-94fe-518940be0ac3",
   "metadata": {},
   "source": [
    "Multiple results"
   ]
  },
  {
   "cell_type": "code",
   "execution_count": 18,
   "id": "27ff21e2-dc2d-4d76-a5bf-d4c4d325ccb5",
   "metadata": {},
   "outputs": [],
   "source": [
    "from typing import Sequence\n",
    "\n",
    "chat = ChatOpenAI(\n",
    "    model_name=\"gpt-4-0613\", # Cheaper but less reliable\n",
    "    temperature=0,\n",
    "    max_tokens=2000,\n",
    "    openai_api_key=openai_api_key\n",
    ")\n",
    "\n",
    "class Person(BaseModel):\n",
    "    \"\"\"Someone who gives their review on different foods\"\"\"\n",
    "\n",
    "    name: str = Field(..., description=\"Name of the person\")\n",
    "    foods: Sequence[Food] = Field(..., description=\"A food that a person mentioned\")"
   ]
  },
  {
   "cell_type": "code",
   "execution_count": 19,
   "id": "2ccb1537-cd28-43e6-869c-e99a5d25ddc5",
   "metadata": {},
   "outputs": [],
   "source": [
    "# Extraction\n",
    "chain = create_extraction_chain_pydantic(pydantic_schema=Person, llm=chat)\n",
    "\n",
    "# Run \n",
    "text = \"\"\"amy likes burgers and fries but doesn't like salads\"\"\"\n",
    "output = chain.run(text)"
   ]
  },
  {
   "cell_type": "code",
   "execution_count": 20,
   "id": "3505732e-e654-4b8e-8208-055f94fea2ab",
   "metadata": {},
   "outputs": [
    {
     "data": {
      "text/plain": [
       "Person(name='amy', foods=[Food(name='burgers', good_or_bad=<GoodOrBad.GOOD: 'Good'>), Food(name='fries', good_or_bad=<GoodOrBad.GOOD: 'Good'>), Food(name='salads', good_or_bad=<GoodOrBad.BAD: 'Bad'>)])"
      ]
     },
     "execution_count": 20,
     "metadata": {},
     "output_type": "execute_result"
    }
   ],
   "source": [
    "output[0]"
   ]
  },
  {
   "cell_type": "code",
   "execution_count": 21,
   "id": "b3592303-dabd-486c-bad2-b989a4b4cca8",
   "metadata": {},
   "outputs": [],
   "source": [
    "class Query(BaseModel):\n",
    "    \"\"\"Extract the change a user would like to make to a financial forecast\"\"\"\n",
    "\n",
    "    entity: str = Field(..., description=\"Name of the category or account a person would like to change\")\n",
    "    amount: int = Field(..., description=\"Amount they would like to change it by\")\n",
    "    year: int = Field(..., description=\"The year they would like the change to\")"
   ]
  },
  {
   "cell_type": "code",
   "execution_count": 22,
   "id": "0a34fad3-cc90-4959-8098-aee795884106",
   "metadata": {},
   "outputs": [],
   "source": [
    "chain = create_extraction_chain_pydantic(pydantic_schema=Query, llm=chat)"
   ]
  },
  {
   "cell_type": "code",
   "execution_count": 23,
   "id": "4b72b64d-2a8b-49b6-a301-081cea258084",
   "metadata": {},
   "outputs": [
    {
     "data": {
      "text/plain": [
       "[Query(entity='inventory', amount=10, year=2022)]"
      ]
     },
     "execution_count": 23,
     "metadata": {},
     "output_type": "execute_result"
    }
   ],
   "source": [
    "chain.run(\"Can you please add 10 more units to inventory in 2022?\")"
   ]
  },
  {
   "cell_type": "code",
   "execution_count": 24,
   "id": "e09338cf-84d0-4126-97ab-4ee8f2165455",
   "metadata": {},
   "outputs": [
    {
     "data": {
      "text/plain": [
       "[Query(entity='revenue', amount=-3, year=2021)]"
      ]
     },
     "execution_count": 24,
     "metadata": {},
     "output_type": "execute_result"
    }
   ],
   "source": [
    "chain.run(\"Remove 3 million from revenue in 2021\")"
   ]
  },
  {
   "cell_type": "code",
   "execution_count": null,
   "id": "f0da181b-93ce-411f-a421-f275b43c4115",
   "metadata": {},
   "outputs": [],
   "source": []
  }
 ],
 "metadata": {
  "kernelspec": {
   "display_name": "Python 3 (ipykernel)",
   "language": "python",
   "name": "python3"
  },
  "language_info": {
   "codemirror_mode": {
    "name": "ipython",
    "version": 3
   },
   "file_extension": ".py",
   "mimetype": "text/x-python",
   "name": "python",
   "nbconvert_exporter": "python",
   "pygments_lexer": "ipython3",
   "version": "3.12.2"
  }
 },
 "nbformat": 4,
 "nbformat_minor": 5
}
